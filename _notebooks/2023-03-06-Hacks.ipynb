{
 "cells": [
  {
   "attachments": {},
   "cell_type": "markdown",
   "metadata": {},
   "source": [
    "# Hacks\n",
    "Hacks\n",
    "\n",
    "- toc: true\n",
    "- layout: base\n",
    "- description: Hacks\n",
    "- categories: [jupyter]\n",
    "- image: /images/collegeboardlogo.png\n",
    "- title: Hacks\n",
    "- author: Rithwikh Varma\n",
    "- show_tags: true\n",
    "- comments: true"
   ]
  },
  {
   "cell_type": "code",
   "execution_count": 3,
   "metadata": {
    "vscode": {
     "languageId": "java"
    }
   },
   "outputs": [
    {
     "name": "stdout",
     "output_type": "stream",
     "text": [
      "1 + 1 = 10\n"
     ]
    }
   ],
   "source": [
    "public class firstfunction {\n",
    "\n",
    "  public static void main(String[] args) {\n",
    "\n",
    "//below is the first input\n",
    "      String firstentry = \"1\";\n",
    "//Below is the second input\n",
    "      String secondentry = \"1\";\n",
    "//Parseint converts the input to a string, and then returns an integer.\n",
    "      int num1 = Integer.parseInt(firstentry, 2);\n",
    "      int num2 = Integer.parseInt(secondentry, 2);\n",
    "      int sum = num1 + num2;\n",
    "      String output = Integer.toBinaryString(sum);\n",
    "      System.out.println(firstentry + \" + \" + secondentry + \" = \" + output);\n",
    "  }\n",
    "}\n",
    "binaryAddition.main(null);"
   ]
  }
 ],
 "metadata": {
  "kernelspec": {
   "display_name": "Java",
   "language": "java",
   "name": "java"
  },
  "language_info": {
   "codemirror_mode": "java",
   "file_extension": ".jshell",
   "mimetype": "text/x-java-source",
   "name": "Java",
   "pygments_lexer": "java",
   "version": "19.0.1+10-21"
  },
  "orig_nbformat": 4
 },
 "nbformat": 4,
 "nbformat_minor": 2
}
