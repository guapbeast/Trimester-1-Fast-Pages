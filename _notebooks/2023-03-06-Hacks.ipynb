{
 "cells": [
  {
   "attachments": {},
   "cell_type": "markdown",
   "metadata": {},
   "source": [
    "# Hacks\n",
    "Hacks\n",
    "\n",
    "- toc: true\n",
    "- layout: base\n",
    "- description: Hacks\n",
    "- categories: [jupyter]\n",
    "- image: /images/collegeboardlogo.png\n",
    "- title: Hacks\n",
    "- author: Rithwikh Varma\n",
    "- show_tags: true\n",
    "- comments: true"
   ]
  },
  {
   "cell_type": "code",
   "execution_count": 3,
   "metadata": {},
   "outputs": [
    {
     "name": "stdout",
     "output_type": "stream",
     "text": [
      "1 + 1 = 10\n"
     ]
    }
   ],
   "source": [
    "import java.util.*;\n",
    "class Yummy\n",
    "{\n",
    "public static void main(String arg[])\t\n",
    "{\t\n",
    " \n",
    "    Scanner sc=new Scanner(System.in);\n",
    "    System.out.println(\"Enter a number\");\n",
    "\n",
    "    int n=sc.Integer();\n",
    "    //Array that goes up to 100\n",
    "    int  bin[]=new int[100];\n",
    "//while n is greater than zero, we find the modulus repeatedly until n = 0\n",
    "    int i = 0;\n",
    "    while(n > 0)\n",
    "    {\n",
    "    bin[i++] = n%2;\n",
    "       n = n/2;\n",
    "    }\n",
    "   System.out.print(\"Binary number: \");\n",
    "    \n",
    "    for(int j = i-1;j >= 0;j--)\n",
    "   {\n",
    "       System.out.print(bin[j]);\n",
    "   }\n",
    "\n",
    "   String output = Integer.toBinaryString(sum);\n",
    "\n",
    "   System.out.println(firstentry + \" + \" + secondentry + \" = \" + output);\n",
    "}\n",
    "}\n",
    "}\n",
    "}"
   ]
  },
  {
   "cell_type": "code",
   "execution_count": 7,
   "metadata": {},
   "outputs": [
    {
     "name": "stdout",
     "output_type": "stream",
     "text": [
      "Before: 21 16\n",
      "After: 16 21\n",
      "\n",
      "Before: 16 21\n",
      "After: 16 21\n",
      "\n",
      "Before: 16 -1\n",
      "After: -1 16\n",
      "\n"
     ]
    }
   ],
   "source": [
    "public class IntByReference {\n",
    "    private int value;\n",
    "\n",
    "    public IntByReference(Integer value) {\n",
    "        this.value = value;\n",
    "    }\n",
    "\n",
    "    public String toString() {\n",
    "        return (String.format(\"%d\", this.value));\n",
    "    }\n",
    "\n",
    "    public void swapToLowHighOrder(IntByReference i) {\n",
    "        if (this.value > i.value) {\n",
    "            int tmp = this.value;\n",
    "            this.value = i.value;\n",
    "            i.value = tmp;\n",
    "        }\n",
    "    }\n",
    "\n",
    "    public static void swapper(int n0, int n1) {\n",
    "        IntByReference a = new IntByReference(n0);\n",
    "        IntByReference b = new IntByReference(n1);\n",
    "        System.out.println(\"Before: \" + a + \" \" + b);\n",
    "        a.swapToLowHighOrder(b);  // conditionally build swap method to change values of a, b\n",
    "        System.out.println(\"After: \" + a + \" \" + b);\n",
    "        System.out.println();\n",
    "    }\n",
    "\n",
    "    public static void main(String[] ags) {\n",
    "        IntByReference.swapper(21, 16);\n",
    "        IntByReference.swapper(16, 21);\n",
    "        IntByReference.swapper(16, -1);\n",
    "    }\n",
    "\n",
    "}\n",
    "IntByReference.main(null);"
   ]
  }
 ],
 "metadata": {
  "kernelspec": {
   "display_name": "Java",
   "language": "java",
   "name": "java"
  },
  "language_info": {
   "codemirror_mode": "java",
   "file_extension": ".jshell",
   "mimetype": "text/x-java-source",
   "name": "java",
   "pygments_lexer": "java",
   "version": "19.0.1+10-21"
  },
  "orig_nbformat": 4
 },
 "nbformat": 4,
 "nbformat_minor": 2
}
