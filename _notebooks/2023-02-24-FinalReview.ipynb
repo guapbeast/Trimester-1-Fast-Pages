{
 "cells": [
  {
   "attachments": {},
   "cell_type": "markdown",
   "metadata": {},
   "source": [
    "# Final Review Blog\n",
    "Final Review Blog\n",
    "\n",
    "- toc: true\n",
    "- layout: base\n",
    "- description: Final Review Blog\n",
    "- categories: [jupyter]\n",
    "- image: /images/collegeboardlogo.png\n",
    "- title: Final Review Blog\n",
    "- author: Rithwikh Varma\n",
    "- show_tags: true\n",
    "- comments: true"
   ]
  },
  {
   "attachments": {},
   "cell_type": "markdown",
   "metadata": {},
   "source": [
    "\n",
    "This Trimester of APCSA was really impactful because we got a lot of firsthand experience working with JWT, databases, and really furthering our knowledge of Java as a language. It was great for us to be able to work as a team and figure out how to accomplish our project goals together, and how to create \n",
    "\n",
    "\n",
    "\n"
   ]
  }
 ],
 "metadata": {
  "kernelspec": {
   "display_name": "Java",
   "language": "java",
   "name": "java"
  },
  "language_info": {
   "codemirror_mode": "java",
   "file_extension": ".jshell",
   "mimetype": "text/x-java-source",
   "name": "java",
   "pygments_lexer": "java",
   "version": "19.0.1+10-21"
  },
  "orig_nbformat": 4
 },
 "nbformat": 4,
 "nbformat_minor": 2
}
