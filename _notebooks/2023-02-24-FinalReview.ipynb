{
 "cells": [
  {
   "attachments": {},
   "cell_type": "markdown",
   "metadata": {},
   "source": [
    "# Final Review Blog\n",
    "Final Review Blog\n",
    "\n",
    "- toc: true\n",
    "- layout: base\n",
    "- description: Final Review Blog\n",
    "- categories: [jupyter]\n",
    "- image: /images/collegeboardlogo.png\n",
    "- title: Final Review Blog\n",
    "- author: Rithwikh Varma\n",
    "- show_tags: true\n",
    "- comments: true"
   ]
  },
  {
   "attachments": {},
   "cell_type": "markdown",
   "metadata": {},
   "source": [
    "\n",
    "This Trimester of APCSA was really impactful because we got a lot of firsthand experience working with JWT, databases, and really furthering our knowledge of Java as a language. It was great for us to be able to work as a team and figure out how to accomplish our project goals together, and how to create an efficient and effective team dynamic.\n",
    "\n",
    "\n",
    "Guide to Website Review:\n",
    "\n",
    "When the user first enters the webpage ([frontend](https://guapbeast.github.io/team10/)), they are presented with information about the creators, and gain an overall understanding of the webpage, becoming acquainted with the navigation bar towards the top of the page. The user is presented with links to help them navigate the webpage and the user also has the option to sign into the website in order to save any of their travel plans.\n",
    "\n",
    "When navigating all of the links, the user is presented with all of the features of the webpage. They are able to acces the travel guide blogs posted on the webpage. They are able to visit an itinerary planning page to help them schedule their trips. They are also presented with a travel planner and travel themed quizzes.\n",
    "\n",
    "Each page offers a new and useful resource that can be used by individuals to better their travel experience as a whole.\n",
    "\n",
    "[Backend](music.nighthawkcoders.tk)"
   ]
  }
 ],
 "metadata": {
  "kernelspec": {
   "display_name": "Java",
   "language": "java",
   "name": "java"
  },
  "language_info": {
   "codemirror_mode": "java",
   "file_extension": ".jshell",
   "mimetype": "text/x-java-source",
   "name": "java",
   "pygments_lexer": "java",
   "version": "19.0.1+10-21"
  },
  "orig_nbformat": 4
 },
 "nbformat": 4,
 "nbformat_minor": 2
}
