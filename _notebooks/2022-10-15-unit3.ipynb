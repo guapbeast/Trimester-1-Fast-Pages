{
 "cells": [
  {
   "cell_type": "markdown",
   "metadata": {},
   "source": [
    "# Unit 3 Boolean Expressions and if Statements\n",
    "Unit 3 Boolean Expressions and if Statements\n",
    "\n",
    "- toc: true\n",
    "- layout: post\n",
    "- description: Unit 3 Boolean Expressions and if Statements\n",
    "- categories: [jupyter]\n",
    "- image: /images/collegeboardlogo.png\n",
    "- title: Unit 3 Boolean Expressions and if Statements\n",
    "- author: Rithwikh Varma\n",
    "- show_tags: true\n",
    "- comments: true"
   ]
  },
  {
   "cell_type": "code",
   "execution_count": 1,
   "metadata": {
    "vscode": {
     "languageId": "java"
    }
   },
   "outputs": [],
   "source": [
    "public int getChargeStartTime (int chargeTime) {\n",
    "    int startHour = 0;\n",
    "    int lowPrice = 500_000;\n",
    "    for (int x = 0; x < 23; x++) {\n",
    "        if (lowPrice > getChargingCost(x, chargeTime)) {\n",
    "            lowPrice = getChargingCost(x, chargeTime);\n",
    "            startHour = x;\n",
    "        }\n",
    "    }\n",
    "    return startHour;\n",
    "}"
   ]
  },
  {
   "cell_type": "code",
   "execution_count": 2,
   "metadata": {
    "vscode": {
     "languageId": "java"
    }
   },
   "outputs": [],
   "source": [
    "public boolean isStrictlyIncreasing () {\n",
    "    boolean increasing = true;\n",
    "    for (int i = 1; i < digitListSize(); i++) {\n",
    "        if (digitList.get(i-1) >= digitList.get(i)) {\n",
    "            increasing = false;\n",
    "        }\n",
    "    }\n",
    "    return increasing;\n",
    "}"
   ]
  },
  {
   "cell_type": "code",
   "execution_count": null,
   "metadata": {
    "vscode": {
     "languageId": "java"
    }
   },
   "outputs": [],
   "source": [
    "public boolean isBalanced(ArrayList<String> delimiters) {\n",
    "    int numOpen = 0, numClosed = 0;\n",
    "    for(String d : delimiters) {\n",
    "        if(d.equals(openDel))\n",
    "            numOpen++;\n",
    "        if(d.equals(closeDel))\n",
    "            numClosed++;\n",
    "        if(numClosed > numOpen)\n",
    "            return false;\n",
    "    }\n",
    "    return numOpen == numClosed;\n",
    "}"
   ]
  }
 ],
 "metadata": {
  "kernelspec": {
   "display_name": "Java",
   "language": "java",
   "name": "java"
  },
  "language_info": {
   "codemirror_mode": "java",
   "file_extension": ".jshell",
   "mimetype": "text/x-java-source",
   "name": "Java",
   "pygments_lexer": "java",
   "version": "19.0.1+10-21"
  },
  "orig_nbformat": 4
 },
 "nbformat": 4,
 "nbformat_minor": 2
}
