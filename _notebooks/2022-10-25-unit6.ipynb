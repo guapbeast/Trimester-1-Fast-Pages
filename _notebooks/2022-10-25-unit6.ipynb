{
 "cells": [
  {
   "cell_type": "markdown",
   "metadata": {},
   "source": [
    "# Unit 6 Arrays\n",
    "Unit 6 Arrays\n",
    "\n",
    "- toc: true\n",
    "- layout: post\n",
    "- description: Unit 6 Arrays\n",
    "- categories: [jupyter]\n",
    "- image: /images/collegeboardlogo.png\n",
    "- title: Unit 6 Arrays\n",
    "- author: Rithwikh Varma\n",
    "- show_tags: true\n",
    "- comments: true"
   ]
  },
  {
   "cell_type": "code",
   "execution_count": 1,
   "metadata": {
    "vscode": {
     "languageId": "java"
    }
   },
   "outputs": [
    {
     "name": "stdout",
     "output_type": "stream",
     "text": [
      "[1, 2, 3, 4, 5]\n",
      "true\n",
      "[5, 2, 3, 4, 1]\n",
      "[5, 0, 3, 0, 1]\n",
      "false\n"
     ]
    }
   ],
   "source": []
  },
  {
   "cell_type": "code",
   "execution_count": 3,
   "metadata": {
    "vscode": {
     "languageId": "java"
    }
   },
   "outputs": [
    {
     "name": "stdout",
     "output_type": "stream",
     "text": [
      "[1, 2, 3, 4, 5]\n",
      "true\n",
      "[5, 2, 3, 4, 1]\n",
      "[5, 0, 3, 0, 1]\n",
      "false\n"
     ]
    }
   ],
   "source": [
    "import java.util.*;\n",
    "import java.io.*;\n",
    "\n",
    "public class chooseMethod {\n",
    "    private int[] values;\n",
    "    public chooseMethod(int[] array) {\n",
    "        this.values = array;\n",
    "    }\n",
    "    public int[] getArray() {\n",
    "        return this.values;\n",
    "    }\n",
    "    public String getString() {\n",
    "        return Arrays.toString(this.values);\n",
    "    }\n",
    "    public void swap() {\n",
    "        int temp = values[0];\n",
    "        values[0] = values[values.length - 1];\n",
    "        values[values.length - 1] = temp;\n",
    "    }\n",
    "\n",
    "// The line of code below replaces even values\n",
    "\n",
    "    public void replaceEven() {\n",
    "        for (int i = 0; i < values.length; i++) {\n",
    "            if (values[i] % 2 == 0) {\n",
    "                values[i] = 0;\n",
    "            }\n",
    "        }\n",
    "    }\n",
    "    public boolean increasingOrder() {\n",
    "        for (int i = 0; i < this.values.length - 1; i++) {\n",
    "            if (values[i] > values[i+1]) {\n",
    "                return false;\n",
    "            }\n",
    "            return true;\n",
    "        }\n",
    "        return false;\n",
    "    }\n",
    "    public static void main() {\n",
    "        chooseMethod method = new chooseMethod(new int[]{1,2,3,4,5});\n",
    "        System.out.println(method.getString());\n",
    "        System.out.println(method.increasingOrder());\n",
    "        method.swap();\n",
    "        System.out.println(method.getString());\n",
    "        method.replaceEven();\n",
    "        System.out.println(method.getString());\n",
    "        System.out.println(method.increasingOrder());\n",
    "    }\n",
    "}\n",
    "chooseMethod.main();"
   ]
  }
 ],
 "metadata": {
  "kernelspec": {
   "display_name": "Java",
   "language": "java",
   "name": "java"
  },
  "language_info": {
   "codemirror_mode": "java",
   "file_extension": ".jshell",
   "mimetype": "text/x-java-source",
   "name": "Java",
   "pygments_lexer": "java",
   "version": "19.0.1+10-21"
  },
  "orig_nbformat": 4
 },
 "nbformat": 4,
 "nbformat_minor": 2
}
