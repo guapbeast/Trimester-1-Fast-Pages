{
 "cells": [
  {
   "attachments": {},
   "cell_type": "markdown",
   "metadata": {},
   "source": [
    "# Unit 9 \n",
    "Unit 9\n",
    "\n",
    "- toc: true\n",
    "- layout: post\n",
    "- description: Unit 9\n",
    "- categories: [jupyter]\n",
    "- image: /images/collegeboardlogo.png\n",
    "- title: Unit 9\n",
    "- author: Rithwikh Varma\n",
    "- show_tags: true\n",
    "- comments: true"
   ]
  },
  {
   "attachments": {},
   "cell_type": "markdown",
   "metadata": {},
   "source": [
    "Inheritance is the order in which different attributes, methods, or strings are called\n",
    "depends on whentheer class is extended or not, if class contains methods, parameters, strings, etc\n",
    "constructor: Where the attributes of a class are defined\n",
    "\n",
    "Overriding: allows a subclass or child class to provide a specific implementation of a method that has already been provided by a super-classes or parent classes. When a method in a subclass has the same name, same parameters or signature, and same return type (or sub-type) as a method in its super-class, then the method in the subclass will override the method in the super-class.\n",
    "\n",
    "Polymorphism: running mutliple things at once with the same name, can be done with different amounts of parameters in method\n",
    "toString method defines and JSONify's data protected is an access modifier so that the attribute isn't affected by outside modifiers.\n",
    "\n",
    "to use constructor of superclass in subclass, need to use super keyword, allowing use of constructors that were made in the superclass"
   ]
  },
  {
   "cell_type": "code",
   "execution_count": 1,
   "metadata": {},
   "outputs": [],
   "source": [
    "public class Test {\n",
    "\n",
    "    public static void main(String[] args) {\n",
    " \n",
    "      String[][] arr = {\n",
    "         { \"a\", \"f\", \"g\" },\n",
    "         { \"b\", \"e\", \"h\" },\n",
    "         { \"c\", \"d\", \"i\" }\n",
    "      };\n",
    " \n",
    "      // Print the last element in the array!\n",
    "       \n",
    "    }\n",
    " \n",
    " }\n",
    " Test.main(null);"
   ]
  },
  {
   "attachments": {},
   "cell_type": "markdown",
   "metadata": {},
   "source": [
    "You can use Nested Loops to traverse 2D Arrays\n",
    "for example: to print out an entire array in order, you need to use these\n",
    "\n",
    "Make sure your columns for loop is always inside your rows for loop!\n",
    "Unless you want it printed the other way of course\n",
    "Print spaces and lines in between to make a neater matrix"
   ]
  },
  {
   "cell_type": "code",
   "execution_count": 2,
   "metadata": {},
   "outputs": [
    {
     "name": "stdout",
     "output_type": "stream",
     "text": [
      "a f g l  \n",
      "b e h k  \n",
      "c d i j  \n"
     ]
    }
   ],
   "source": [
    "public class Test {\n",
    "\n",
    "    public static void main(String[] args) {\n",
    " \n",
    "      String[][] arr = {\n",
    "         { \"a\", \"f\", \"g\", \"l\" },\n",
    "         { \"b\", \"e\", \"h\", \"k\" },\n",
    "         { \"c\", \"d\", \"i\", \"j\" }\n",
    "      };\n",
    " \n",
    "      for (int row = 0; row < 3; row++) {\n",
    "         for (int col = 0; col < 4; col++) {\n",
    "            System.out.print(arr[row][col] + \" \");\n",
    "         }\n",
    "        System.out.println(\" \");\n",
    "      }\n",
    "       \n",
    "    }\n",
    " \n",
    " }\n",
    " Test.main(null);"
   ]
  },
  {
   "cell_type": "code",
   "execution_count": 3,
   "metadata": {},
   "outputs": [
    {
     "name": "stdout",
     "output_type": "stream",
     "text": [
      "Cincinnati\n",
      "Use nested for loops to find the longest or shortest string!\n"
     ]
    }
   ],
   "source": [
    "public class Test {\n",
    "\n",
    "    public static void main(String[] args) {\n",
    "  \n",
    "        String[][] arr = {\n",
    "            { \"Atlanta\", \"Baltimore\", \"Chicago\" },\n",
    "            { \"Australia\", \"Boston\", \"Cincinnati\" },\n",
    "            { \"Austin\", \"Beaumont\", \"Columbus\" }\n",
    "        };\n",
    "\n",
    "        String longest = arr[0][0];\n",
    "\n",
    "        for(int row = 0; row < arr.length; row++) {\n",
    "            for(int column = 0; column < arr[row].length; column++) {\n",
    "                if (arr[row][column].length() > longest.length()) {\n",
    "                    longest = arr[row][column];\n",
    "                }\n",
    "            }\n",
    "         }\n",
    "\n",
    "        System.out.println(longest);\n",
    "\n",
    "        // Use nested for loops to find the longest or shortest string!\n",
    "        System.out.println(\"Use nested for loops to find the longest or shortest string!\");\n",
    "        \n",
    "    }\n",
    " \n",
    " }\n",
    "Test.main(null);\n"
   ]
  },
  {
   "attachments": {},
   "cell_type": "markdown",
   "metadata": {},
   "source": [
    "\n",
    "To create a two dimensional array in Java, you have to specify the data type of items to be stored in the array, followed by two square brackets and the name of the array."
   ]
  },
  {
   "cell_type": "code",
   "execution_count": 4,
   "metadata": {},
   "outputs": [
    {
     "name": "stdout",
     "output_type": "stream",
     "text": [
      "    * \n",
      "   *** \n",
      "  ***** \n",
      "  ******* \n",
      "  ********* \n",
      " *********** \n",
      "************* \n",
      "   || \n",
      "   || \n"
     ]
    }
   ],
   "source": [
    "import java.util.*;\n",
    "\n",
    "class Tree {\n",
    "    private String [][] tree;    \n",
    "    public Tree () {\n",
    "        tree = new String[][]{   //2D array above is just a name, \"new\" makes a container (\"object\")\n",
    "                {                 \"    * \"   },     \n",
    "               {                 \"   *** \"     },             \n",
    "              {                 \"  ***** \"    },\n",
    "             {                 \"  ******* \"   },\n",
    "             {                \"  ********* \" },\n",
    "             {               \" *********** \" },\n",
    "            {               \"************* \"  },\n",
    "            {                   \"   || \"        },\n",
    "            {                   \"   || \"        }          \n",
    "            };\n",
    "        }\n",
    "\n",
    "\n",
    "    public void printASCII () {\n",
    "        for (int row = 0; row < tree.length;row++) { \n",
    "          for (int column = 0; column < tree[row].length; column++) {\n",
    "            System.out.println(tree[row][column]);\n",
    "          }\n",
    "          \n",
    "      }\n",
    "    }\n",
    "  }\n",
    "\n",
    "\n",
    "Tree myTree = new Tree();\n",
    "myTree.printASCII();\n"
   ]
  }
 ],
 "metadata": {
  "kernelspec": {
   "display_name": "Java",
   "language": "java",
   "name": "java"
  },
  "language_info": {
   "codemirror_mode": "java",
   "file_extension": ".jshell",
   "mimetype": "text/x-java-source",
   "name": "java",
   "pygments_lexer": "java",
   "version": "19.0.1+10-21"
  },
  "orig_nbformat": 4
 },
 "nbformat": 4,
 "nbformat_minor": 2
}
