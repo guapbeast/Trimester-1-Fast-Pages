{
 "cells": [
  {
   "attachments": {},
   "cell_type": "markdown",
   "metadata": {},
   "source": [
    "# Unit 9 \n",
    "Unit 9\n",
    "\n",
    "- toc: true\n",
    "- layout: post\n",
    "- description: Unit 9\n",
    "- categories: [jupyter]\n",
    "- image: /images/collegeboardlogo.png\n",
    "- title: Unit 9\n",
    "- author: Rithwikh Varma\n",
    "- show_tags: true\n",
    "- comments: true"
   ]
  },
  {
   "attachments": {},
   "cell_type": "markdown",
   "metadata": {},
   "source": []
  },
  {
   "cell_type": "code",
   "execution_count": 2,
   "metadata": {
    "vscode": {
     "languageId": "java"
    }
   },
   "outputs": [],
   "source": [
    "public class Animal {\n",
    "    protected double mass; //protected so the attribute isn't modified outside by outside modifiers\n",
    "    protected double lifespan;\n",
    "    public Animal(double mass, double lifespan) { //constructor with parameters of mass and lifespan\n",
    "        this.mass = mass;\n",
    "        this.lifespan = lifespan;\n",
    "    }\n",
    "\n",
    "    public class Dog extends Animal { //extends superclass into dog subclass\n",
    "    \n",
    "        protected String color; \n",
    "        \n",
    "        public Dog(double mass, double lifespan, String color) { //another constructor\n",
    "            super(mass, lifespan);\n",
    "            this.color = color;\n",
    "        }\n",
    "    }\n",
    "}\n"
   ]
  },
  {
   "cell_type": "code",
   "execution_count": 2,
   "metadata": {
    "vscode": {
     "languageId": "java"
    }
   },
   "outputs": [
    {
     "name": "stdout",
     "output_type": "stream",
     "text": [
      "a f g l  \n",
      "b e h k  \n",
      "c d i j  \n"
     ]
    }
   ],
   "source": [
    "public class Animal {\n",
    "   protected double mass;\n",
    "   protected double lifespan;\n",
    "   public Animal(double mass, double lifespan) {\n",
    "       this.mass = mass;\n",
    "       this.lifespan = lifespan;\n",
    "   }\n",
    "   public void sound() {\n",
    "       System.out.println(\"sound\");\n",
    "   }\n",
    "\n",
    "   public class Dog extends Animal {\n",
    "   \n",
    "       protected String color; \n",
    "       \n",
    "       public Dog(double mass, double lifespan, String color) {\n",
    "           super(mass, lifespan);\n",
    "           this.color = color;\n",
    "       }\n",
    "       @Override\n",
    "       public void sound() { //overrides the sound method, by printing woof instead of sound\n",
    "           System.out.println(\"woof\");\n",
    "       }\n",
    "   }\n",
    "}"
   ]
  },
  {
   "cell_type": "code",
   "execution_count": 3,
   "metadata": {
    "vscode": {
     "languageId": "java"
    }
   },
   "outputs": [],
   "source": [
    "public class Animal {\n",
    "    protected double mass;\n",
    "    protected double lifespan;\n",
    "    public Animal(double mass, double lifespan) {\n",
    "        this.mass = mass;\n",
    "        this.lifespan = lifespan;\n",
    "    }\n",
    "    public void sound() {\n",
    "        System.out.println(\"sound\");\n",
    "    }\n",
    "\n",
    "    public void die(boolean a) {\n",
    "        System.out.println(\"the cat is dead: \" + a); //method to be overloaded\n",
    "    }\n",
    "    public class Dog extends Animal {\n",
    "    \n",
    "        protected String color; \n",
    "        \n",
    "        public Dog(double mass, double lifespan, String color) {\n",
    "            super(mass, lifespan);\n",
    "            this.color = color;\n",
    "        }\n",
    "        @Override\n",
    "        public void sound() {\n",
    "            System.out.println(\"woof\");\n",
    "        }\n",
    "    }\n",
    "    public class Cat extends Animal { //make  another subclass for Cat that extends off of Animal \n",
    "    \n",
    "        protected String breed; \n",
    "        \n",
    "        public Cat(double mass, double lifespan, String breed) {\n",
    "            super(mass, lifespan);\n",
    "            this.breed = breed;\n",
    "        }\n",
    "        @Override\n",
    "        public void sound() { //overrides the sound\n",
    "            System.out.println(\"meow\");\n",
    "        }\n",
    "\n",
    "        public void die(boolean a, boolean b) { //method overloading\n",
    "            System.out.println(\"the cat is dead: \" + a + b);\n",
    "        }\n",
    "    }\n",
    "}"
   ]
  },
  {
   "attachments": {},
   "cell_type": "markdown",
   "metadata": {},
   "source": [
    "\n",
    "To create a two dimensional array in Java, you have to specify the data type of items to be stored in the array, followed by two square brackets and the name of the array."
   ]
  },
  {
   "cell_type": "code",
   "execution_count": 4,
   "metadata": {
    "vscode": {
     "languageId": "java"
    }
   },
   "outputs": [
    {
     "name": "stdout",
     "output_type": "stream",
     "text": [
      "    * \n",
      "   *** \n",
      "  ***** \n",
      "  ******* \n",
      "  ********* \n",
      " *********** \n",
      "************* \n",
      "   || \n",
      "   || \n"
     ]
    }
   ],
   "source": [
    "import java.util.*;\n",
    "\n",
    "class Tree {\n",
    "    private String [][] tree;    \n",
    "    public Tree () {\n",
    "        tree = new String[][]{   //2D array above is just a name, \"new\" makes a container (\"object\")\n",
    "                {                 \"    * \"   },     \n",
    "               {                 \"   *** \"     },             \n",
    "              {                 \"  ***** \"    },\n",
    "             {                 \"  ******* \"   },\n",
    "             {                \"  ********* \" },\n",
    "             {               \" *********** \" },\n",
    "            {               \"************* \"  },\n",
    "            {                   \"   || \"        },\n",
    "            {                   \"   || \"        }          \n",
    "            };\n",
    "        }\n",
    "\n",
    "\n",
    "    public void printASCII () {\n",
    "        for (int row = 0; row < tree.length;row++) { \n",
    "          for (int column = 0; column < tree[row].length; column++) {\n",
    "            System.out.println(tree[row][column]);\n",
    "          }\n",
    "          \n",
    "      }\n",
    "    }\n",
    "  }\n",
    "\n",
    "\n",
    "Tree myTree = new Tree();\n",
    "myTree.printASCII();\n"
   ]
  }
 ],
 "metadata": {
  "kernelspec": {
   "display_name": "Java",
   "language": "java",
   "name": "java"
  },
  "language_info": {
   "codemirror_mode": "java",
   "file_extension": ".jshell",
   "mimetype": "text/x-java-source",
   "name": "Java",
   "pygments_lexer": "java",
   "version": "19.0.1+10-21"
  },
  "orig_nbformat": 4
 },
 "nbformat": 4,
 "nbformat_minor": 2
}
