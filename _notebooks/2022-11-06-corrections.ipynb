{
 "cells": [
  {
   "cell_type": "markdown",
   "metadata": {},
   "source": [
    "# MC Corrections\n",
    "MC Corrections\n",
    "\n",
    "- toc: true\n",
    "- layout: post\n",
    "- description: MC Corrections\n",
    "- categories: [jupyter]\n",
    "- image: /images/collegeboardlogo.png\n",
    "- title: MC Corrections\n",
    "- author: Rithwikh Varma\n",
    "- show_tags: true\n",
    "- comments: true"
   ]
  },
  {
   "cell_type": "markdown",
   "metadata": {},
   "source": [
    "College Board MCQ Corrections.\n",
    "\n",
    "Question: #25\n",
    "![CollegeBoard](images/collegeboard.png)\n",
    "\n",
    "The correct answer to this problem would be D, I and II. Choice I shows the reader the height, width, and depth of a box through methods getHeight, getWidth, and getDepth, which allow comparisons to be made in all three dimensions to see if one box can fit inside another box. Choice II is also correct because it gives the user methods smallerHeight, smallerWidth, and smallerDepth notify the reader if one of the boxes are smaller than the other in all three dimensions. \n",
    "\n",
    "\n",
    "Question: #18\n",
    "![CollegeBoard](images/Collegeboard2.png)\n",
    "\n",
    "The correct answer to this problem would be B, since using Math.random() generates random floating point numbers between 0 and 1, without including 1. C is incorrect because using the statement from C will result in a range between 1 and myList.size().\n",
    "\n",
    "Question: #38\n",
    "![CollegeBoard](images/collegeboard3.png)\n",
    "\n",
    "The correct answer to this problem would be A, since the expression will evaluate to true since x is always either greater than 1000 or less than 1500.\n",
    "\n",
    "Question: #14\n",
    "![CollegeBoard](images/collegeboard4.png)\n",
    "\n",
    "The correct answer to this problem would be E, since the access that's being used here is the access that would be used if myVehicles was an array and not an ArrayList.\n",
    "\n",
    "Question: #10\n",
    "![CollegeBoard](images/collegeboard5.png)\n",
    "\n",
    "The correct answer to this problem would be B, Choice II will eventually cause an ArrayIndexOutOfBoundsException to be thrown when the recursive call is made with target and -1. Choice II is correcyt because Choice I will return the correct value if the element in the array with one element was target.\n",
    "\n",
    "Question #17\n",
    "![CollegeBoard](images/collegeboard6.png)"
   ]
  }
 ],
 "metadata": {
  "kernelspec": {
   "display_name": "Java",
   "language": "java",
   "name": "java"
  },
  "language_info": {
   "codemirror_mode": "java",
   "file_extension": ".jshell",
   "mimetype": "text/x-java-source",
   "name": "java",
   "pygments_lexer": "java",
   "version": "19.0.1+10-21"
  },
  "orig_nbformat": 4
 },
 "nbformat": 4,
 "nbformat_minor": 2
}
