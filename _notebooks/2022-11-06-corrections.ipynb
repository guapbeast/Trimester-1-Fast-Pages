{
 "cells": [
  {
   "cell_type": "markdown",
   "metadata": {},
   "source": [
    "# MC Corrections\n",
    "MC Corrections\n",
    "\n",
    "- toc: true\n",
    "- layout: post\n",
    "- description: MC Corrections\n",
    "- categories: [jupyter]\n",
    "- image: /images/arraylist.png\n",
    "- title: MC Corrections\n",
    "- author: Rithwikh Varma\n",
    "- show_tags: true\n",
    "- comments: true"
   ]
  },
  {
   "cell_type": "markdown",
   "metadata": {},
   "source": [
    "College Board MCQ Corrections.\n",
    "\n",
    "Question: #25\n",
    "![CollegeBoard](images/collegeboard.png)\n",
    "\n",
    "The correct answer to this problem would be D, I and II. Choice I shows the reader the height, width, and depth of a box through methods getHeight, getWidth, and getDepth, which allow comparisons to be made in all three dimensions to see if one box can fit inside another box. Choice II is also correct because it gives the user methods smallerHeight, smallerWidth, and smallerDepth notify the reader if one of the boxes are smaller than the other in all three dimensions. \n",
    "\n",
    "\n",
    "\n"
   ]
  }
 ],
 "metadata": {
  "kernelspec": {
   "display_name": "Java",
   "language": "java",
   "name": "java"
  },
  "language_info": {
   "codemirror_mode": "java",
   "file_extension": ".jshell",
   "mimetype": "text/x-java-source",
   "name": "java",
   "pygments_lexer": "java",
   "version": "19.0.1+10-21"
  },
  "orig_nbformat": 4
 },
 "nbformat": 4,
 "nbformat_minor": 2
}
