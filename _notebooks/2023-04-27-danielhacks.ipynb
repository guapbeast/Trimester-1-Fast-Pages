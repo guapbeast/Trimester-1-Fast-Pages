{
 "cells": [
  {
   "attachments": {},
   "cell_type": "markdown",
   "metadata": {},
   "source": [
    "# Hacks\n",
    "Hacks\n",
    "\n",
    "- toc: true\n",
    "- layout: base\n",
    "- description: Hacks\n",
    "- categories: [jupyter]\n",
    "- image: /images/collegeboardlogo.png\n",
    "- title: Hacks\n",
    "- author: Rithwikh Varma\n",
    "- show_tags: true\n",
    "- comments: true"
   ]
  },
  {
   "cell_type": "code",
   "execution_count": 12,
   "metadata": {
    "vscode": {
     "languageId": "java"
    }
   },
   "outputs": [
    {
     "name": "stdout",
     "output_type": "stream",
     "text": [
      "6\n"
     ]
    }
   ],
   "source": [
    "public class BinarySearch {\n",
    "    \n",
    "    private int search(int[] array, int group1, int group2, int selected ) {\n",
    "\n",
    "        // if group1 index is greater than group2 or group1 index is greater than largest index, stop running and return -1\n",
    "\n",
    "        if (group1 <= group2 && group1 < array.length-1) {\n",
    "            // obtain the middle index\n",
    "\n",
    "            int mid = group1+(group2-1)/2;\n",
    "            if (selected == array[mid]) {\n",
    "                // return index if selected is found\n",
    "                return mid;\n",
    "\n",
    "            } else if (selected < array[mid]) {\n",
    "                // update index \n",
    "\n",
    "                return search(array, group1, mid-1, selected);\n",
    "            } else if (selected > array[mid]) {\n",
    "\n",
    "                // update index  and run search again\n",
    "                return search(array, mid+1, group2, selected);\n",
    "            }\n",
    "        }\n",
    "        return -1;\n",
    "    }\n",
    "    public int search(int[] array, int selected) {\n",
    "\n",
    "        return this.search(array, 0, array.length-1, selected);\n",
    "    }\n",
    "    public static void main() {\n",
    "\n",
    "        BinarySearch binary = new BinarySearch();\n",
    "\n",
    "        int[] array = {1, 3, 5, 7, 9, 23, 45, 67};\n",
    "\n",
    "        int index = binary.search(array, 45);\n",
    "        \n",
    "        System.out.println(index);\n",
    "    }\n",
    "}\n",
    "BinarySearch.main();\n"
   ]
  },
  {
   "cell_type": "code",
   "execution_count": 13,
   "metadata": {
    "vscode": {
     "languageId": "java"
    }
   },
   "outputs": [
    {
     "name": "stdout",
     "output_type": "stream",
     "text": [
      "6\n"
     ]
    }
   ],
   "source": [
    "public class UnsortedSearch {\n",
    "\n",
    "    void merge(int arr[], int l, int m, int r) {\n",
    "    \n",
    "        int n1 = m - l + 1;\n",
    "\n",
    "        int n2 = r - m;\n",
    "\n",
    "        int[] L = new int[n1];\n",
    "        int[] R = new int[n2];\n",
    "\n",
    "        for (int i = 0; i < n1; ++i)\n",
    "            L[i] = arr[l + i];\n",
    "\n",
    "        for (int j = 0; j < n2; ++j)\n",
    "            R[j] = arr[m + 1 + j];\n",
    "\n",
    "        int i = 0, j = 0;\n",
    "\n",
    "        int k = l;\n",
    "\n",
    "        while (i < n1 && j < n2) {\n",
    "            if (L[i] <= R[j]) {\n",
    "                arr[k] = L[i];\n",
    "                i++;\n",
    "            }\n",
    "\n",
    "            else {\n",
    "                arr[k] = R[j];\n",
    "                j++;\n",
    "            }\n",
    "            k++;\n",
    "        }\n",
    "\n",
    "        while (i < n1) {\n",
    "            arr[k] = L[i];\n",
    "            i++;\n",
    "            k++;\n",
    "        }\n",
    "\n",
    "        while (j < n2) {\n",
    "            arr[k] = R[j];\n",
    "            j++;\n",
    "            k++;\n",
    "        }\n",
    "    }\n",
    "\n",
    "    public void sort(int arr[], int l, int r) {\n",
    "        if (l < r) {\n",
    "            int mid = l + (r - l) / 2;\n",
    "            sort(arr, l, mid);\n",
    "            sort(arr, mid + 1, r);\n",
    "            merge(arr, l, mid, r);\n",
    "        }\n",
    "    }\n",
    "\n",
    "    private int search(int[] array, int selected) {\n",
    "        this.sort(array,0,array.length-1);\n",
    "\n",
    "        BinarySearch search = new BinarySearch();\n",
    "\n",
    "        return search.search(array, selected);\n",
    "    }\n",
    "    \n",
    "    public static void main() {\n",
    "        UnsortedSearch search = new UnsortedSearch();\n",
    "        \n",
    "        int[] array = {5, 6, 3, 1, 8, 9, 4, 7, 2};\n",
    "        int index = search.search(array, 7);\n",
    "        \n",
    "        System.out.println(index);\n",
    "    }\n",
    "}\n",
    "UnsortedSearch.main();"
   ]
  }
 ],
 "metadata": {
  "kernelspec": {
   "display_name": "Java",
   "language": "java",
   "name": "java"
  },
  "language_info": {
   "codemirror_mode": "java",
   "file_extension": ".jshell",
   "mimetype": "text/x-java-source",
   "name": "Java",
   "pygments_lexer": "java",
   "version": "19.0.1+10-21"
  },
  "orig_nbformat": 4
 },
 "nbformat": 4,
 "nbformat_minor": 2
}
