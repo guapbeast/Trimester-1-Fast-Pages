{
 "cells": [
  {
   "cell_type": "markdown",
   "metadata": {},
   "source": [
    "# 2019 FRQ #1\n",
    "2019 FRQ #1\n",
    "\n",
    "- toc: true\n",
    "- layout: post\n",
    "- description: 2019 FRQ #1\n",
    "- categories: [jupyter]\n",
    "- image: /images/csa.png\n",
    "- title: 2019 FRQ #1\n",
    "- author: Rithwikh Varma\n",
    "- show_tags: true\n",
    "- comments: true"
   ]
  },
  {
   "cell_type": "code",
   "execution_count": 4,
   "metadata": {
    "vscode": {
     "languageId": "java"
    }
   },
   "outputs": [],
   "source": [
    "public static int numberOfLeapYears(int year1, int year2) {\n",
    "\tint count = 0;\n",
    "\t\n",
    "\tfor (int year = year1; year <= year2; year++) {\n",
    "\t\tif (isLeapYear(year)) {\n",
    "\t\t\tcount++;\n",
    "\t\t}\n",
    "\t}\n",
    "\t\n",
    "\treturn count;\n",
    "}"
   ]
  },
  {
   "cell_type": "code",
   "execution_count": 5,
   "metadata": {
    "vscode": {
     "languageId": "java"
    }
   },
   "outputs": [],
   "source": [
    "public static int dayOfWeek(int month, int day, int year) {\n",
    "\treturn (firstDayOfYear(year) + dayOfYear(month, day, year) - 1) % 7;\n",
    "}"
   ]
  }
 ],
 "metadata": {
  "kernelspec": {
   "display_name": "Java",
   "language": "java",
   "name": "java"
  },
  "language_info": {
   "codemirror_mode": "java",
   "file_extension": ".jshell",
   "mimetype": "text/x-java-source",
   "name": "Java",
   "pygments_lexer": "java",
   "version": "19.0.1+10-21"
  },
  "orig_nbformat": 4
 },
 "nbformat": 4,
 "nbformat_minor": 2
}
