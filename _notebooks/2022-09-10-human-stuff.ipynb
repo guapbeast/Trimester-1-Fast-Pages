{
 "cells": [
  {
   "cell_type": "markdown",
   "metadata": {},
   "source": [
    "# Human Stuff\n",
    "Human Stuff\n",
    "\n",
    "- toc: true\n",
    "- layout: post\n",
    "- description: Human stuff notes\n",
    "- categories: [jupyter]\n",
    "- title: Human Stuff\n",
    "- author: Rithwikh Varma\n",
    "- show_tags: true\n",
    "- comments: true"
   ]
  },
  {
   "cell_type": "markdown",
   "metadata": {},
   "source": [
    "# Laurie Santos: Psychologie and the Good Life\n",
    "\n",
    "People at Yale are overwhelmed and so busy that they’re triaging stuff.\n",
    "\n",
    "Many students feel lonely and 80% say that they feel overwhelmed/stressed.\n",
    "\n",
    "Studies show that Yale and other Ivy Leagues are not the exception and that many other college students who don't attend higher challenge colleges experience much the same symptoms.\n",
    "\n",
    "\n"
   ]
  },
  {
   "cell_type": "code",
   "execution_count": null,
   "metadata": {},
   "outputs": [],
   "source": []
  }
 ],
 "metadata": {
  "kernelspec": {
   "display_name": "Python 3.10.0 64-bit",
   "language": "python",
   "name": "python3"
  },
  "language_info": {
   "name": "python",
   "version": "3.10.0"
  },
  "orig_nbformat": 4,
  "vscode": {
   "interpreter": {
    "hash": "aee8b7b246df8f9039afb4144a1f6fd8d2ca17a180786b69acc140d282b71a49"
   }
  }
 },
 "nbformat": 4,
 "nbformat_minor": 2
}
