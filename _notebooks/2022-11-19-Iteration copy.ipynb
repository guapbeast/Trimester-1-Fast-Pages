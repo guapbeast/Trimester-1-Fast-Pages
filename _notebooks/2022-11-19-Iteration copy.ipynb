{
 "cells": [
  {
   "cell_type": "markdown",
   "metadata": {},
   "source": [
    "# 2019 FRQ #2\n",
    "2019 FRQ #1\n",
    "\n",
    "- toc: true\n",
    "- layout: post\n",
    "- description: 2019 FRQ #2\n",
    "- categories: [jupyter]\n",
    "- image: /images/csa.png\n",
    "- title: 2019 FRQ #2\n",
    "- author: Rithwikh Varma\n",
    "- show_tags: true\n",
    "- comments: true"
   ]
  },
  {
   "cell_type": "code",
   "execution_count": 5,
   "metadata": {},
   "outputs": [
    {
     "name": "stdout",
     "output_type": "stream",
     "text": [
      "2\n",
      "0\n",
      "0\n",
      "16\n",
      "\n",
      "1\n",
      "4\n",
      "9\n",
      "9\n"
     ]
    }
   ],
   "source": [
    "public class WordMatch {\n",
    "    private String secret;\n",
    "  \n",
    "    public WordMatch (String word) {\n",
    "      this.secret = word;\n",
    "    }\n",
    "  \n",
    "    public int scoreGuess (String guess) {\n",
    "      String word_copy = secret;\n",
    "      int score = 0;\n",
    "      for (int i = 0; i<secret.length(); i++) {\n",
    "        if (word_copy.indexOf(guess) == 0) score++;\n",
    "        word_copy = word_copy.substring(1, word_copy.length());\n",
    "      }\n",
    "      return score*guess.length()*guess.length();\n",
    "    }\n",
    "  \n",
    "    public static void main (String[] args) {\n",
    "      WordMatch game1 = new WordMatch(\"mespoptamia\");\n",
    "      System.out.println(game1.scoreGuess(\"m\"));\n",
    "      System.out.println(game1.scoreGuess(\"eso\"));\n",
    "      System.out.println(game1.scoreGuess(\"pot\"));\n",
    "      System.out.println(game1.scoreGuess(\"amia\"));\n",
    "      System.out.println();\n",
    "      WordMatch game2 = new WordMatch(\"spiderman\");\n",
    "      System.out.println(game2.scoreGuess(\"s\"));\n",
    "      System.out.println(game2.scoreGuess(\"pi\"));\n",
    "      System.out.println(game2.scoreGuess(\"der\"));\n",
    "      System.out.println(game2.scoreGuess(\"man\"));\n",
    "    }\n",
    "  }\n",
    "  \n",
    "  WordMatch.main(null);"
   ]
  },
  {
   "cell_type": "code",
   "execution_count": 3,
   "metadata": {},
   "outputs": [
    {
     "name": "stdout",
     "output_type": "stream",
     "text": [
      "Jeff\n",
      "King Tut\n"
     ]
    }
   ],
   "source": [
    "public class WordMatch {\n",
    "    private String secret;\n",
    "  \n",
    "    public WordMatch (String word) {\n",
    "      this.secret = word;\n",
    "    }\n",
    "  \n",
    "    public int scoreGuess (String guess) {\n",
    "      String word_copy = secret;\n",
    "      int score = 0;\n",
    "      for (int i = 0; i<secret.length(); i++) {\n",
    "        if (word_copy.indexOf(guess) == 0) score++;\n",
    "        word_copy = word_copy.substring(1, word_copy.length());\n",
    "      }\n",
    "      return score*guess.length()*guess.length();\n",
    "    }\n",
    "  \n",
    "    public String findBetterGuess (String guess1, String guess2) {\n",
    "      int score1 = scoreGuess(guess1);\n",
    "      int score2 = scoreGuess(guess2);\n",
    "      if (score1 > score2) return guess1;\n",
    "      if (score1 < score2) return guess2;\n",
    "      return (guess1.compareTo(guess2) > 0 ? guess1 : guess2);\n",
    "    }\n",
    "  \n",
    "    public static void main (String[] args) {\n",
    "      WordMatch game1 = new WordMatch(\"concatenation\");\n",
    "      System.out.println(game1.findBetterGuess(\"Elon\", \"Jeff\"));\n",
    "      System.out.println(game1.findBetterGuess(\"King Tut\", \"Cleopatra\"));\n",
    "    }\n",
    "  }\n",
    "  \n",
    "  WordMatch.main(null);"
   ]
  }
 ],
 "metadata": {
  "kernelspec": {
   "display_name": "Java",
   "language": "java",
   "name": "java"
  },
  "language_info": {
   "codemirror_mode": "java",
   "file_extension": ".jshell",
   "mimetype": "text/x-java-source",
   "name": "java",
   "pygments_lexer": "java",
   "version": "19.0.1+10-21"
  },
  "orig_nbformat": 4
 },
 "nbformat": 4,
 "nbformat_minor": 2
}
