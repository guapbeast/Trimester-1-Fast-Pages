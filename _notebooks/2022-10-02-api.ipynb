{
 "cells": [
  {
   "cell_type": "code",
   "execution_count": 1,
   "metadata": {
    "vscode": {
     "languageId": "java"
    }
   },
   "outputs": [
    {
     "name": "stdout",
     "output_type": "stream",
     "text": [
      "{\"data\":[{\"id\":3515514,\"wikiDataId\":\"Q4117373\",\"name\":\"Al Mamzar\",\"country\":\"United Arab Emirates\",\"countryCode\":\"AE\",\"region\":\"Dubai\",\"regionCode\":\"DU\",\"latitude\":25.309469444,\"longitude\":55.342811111,\"population\":0},{\"id\":3386644,\"wikiDataId\":\"Q3694483\",\"name\":\"Ab Band District\",\"country\":\"Afghanistan\",\"countryCode\":\"AF\",\"region\":\"Ghazni\",\"regionCode\":\"GHA\",\"latitude\":32.983,\"longitude\":67.967,\"population\":0},{\"id\":3339608,\"wikiDataId\":\"Q2572213\",\"name\":\"Ab Kamari\",\"country\":\"Afghanistan\",\"countryCode\":\"AF\",\"region\":\"Badghis\",\"regionCode\":\"BDG\",\"latitude\":34.925,\"longitude\":62.901666666,\"population\":0},{\"id\":3228129,\"wikiDataId\":\"Q1650529\",\"name\":\"Achin\",\"country\":\"Afghanistan\",\"countryCode\":\"AF\",\"region\":\"Nangarhar\",\"regionCode\":\"NAN\",\"latitude\":34.0894,\"longitude\":70.683,\"population\":0},{\"id\":3301438,\"wikiDataId\":\"Q2714271\",\"name\":\"Adraskan District\",\"country\":\"Afghanistan\",\"countryCode\":\"AF\",\"region\":\"Herat\",\"regionCode\":\"HER\",\"latitude\":33.705277777,\"longitude\":61.995555555,\"population\":0}],\"links\":[{\"rel\":\"first\",\"href\":\"/v1/geo/cities?offset=0&limit=5\"},{\"rel\":\"next\",\"href\":\"/v1/geo/cities?offset=5&limit=5\"},{\"rel\":\"last\",\"href\":\"/v1/geo/cities?offset=71985&limit=5\"}],\"metadata\":{\"currentOffset\":0,\"totalCount\":71986}}\n"
     ]
    }
   ],
   "source": [
    "import java.net.URI;\n",
    "import java.net.http.HttpClient;\n",
    "import java.net.http.HttpRequest;\n",
    "import java.net.http.HttpResponse;\n",
    "import java.util.Random;\n",
    "\n",
    "HttpRequest request = HttpRequest.newBuilder()\n",
    "\t\t.uri(URI.create(\"https://wft-geo-db.p.rapidapi.com/v1/geo/adminDivisions\"))\n",
    "\t\t.header(\"X-RapidAPI-Key\", \"9d1b75d842msh20486d8bf8d5c19p1904abjsneb2943a9124c\")\n",
    "\t\t.header(\"X-RapidAPI-Host\", \"wft-geo-db.p.rapidapi.com\")\n",
    "\t\t.method(\"GET\", HttpRequest.BodyPublishers.noBody())\n",
    "\t\t.build();\n",
    "HttpResponse<String> response = HttpClient.newHttpClient().send(request, HttpResponse.BodyHandlers.ofString());\n",
    "System.out.println(response.body());"
   ]
  }
 ],
 "metadata": {
  "kernelspec": {
   "display_name": "Java",
   "language": "java",
   "name": "java"
  },
  "language_info": {
   "codemirror_mode": "java",
   "file_extension": ".jshell",
   "mimetype": "text/x-java-source",
   "name": "Java",
   "pygments_lexer": "java",
   "version": "18.0.2.1+1-1"
  },
  "orig_nbformat": 4
 },
 "nbformat": 4,
 "nbformat_minor": 2
}
