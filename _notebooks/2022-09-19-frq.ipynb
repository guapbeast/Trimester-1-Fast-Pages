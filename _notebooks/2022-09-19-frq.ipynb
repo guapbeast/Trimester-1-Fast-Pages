{
 "cells": [
  {
   "cell_type": "markdown",
   "metadata": {},
   "source": [
    "# FRQ\n",
    "\n",
    "Write the static method numberOfLeapYears, which returns the number of leap years between\n",
    "year1 and year2, inclusive.\n",
    "In order to calculate this value, a helper method is provided for you.\n",
    "• isLeapYear(year) returns true if year is a leap year and false otherwise.\n",
    "Complete method numberOfLeapYears below. You must use isLeapYear appropriately to\n",
    "receive full credit.\n",
    "/** Returns the number of leap years between year1 and year2, inclusive.\n",
    " * Precondition: 0 <= year1 <= year2\n",
    " */\n",
    " public static int numberOfLeapYears(int year1, int year2) "
   ]
  },
  {
   "cell_type": "code",
   "execution_count": 3,
   "metadata": {
    "vscode": {
     "languageId": "java"
    }
   },
   "outputs": [],
   "source": [
    "public class Main {\n",
    "\n",
    "    public static void main(String[] args) {\n",
    "  \n",
    "      // year to be checked\n",
    "      int year = 1900;\n",
    "      boolean leap = false;\n",
    "  \n",
    "      // if the year is divided by 4\n",
    "      if (year % 4 == 0) {\n",
    "  \n",
    "        // if the year is century\n",
    "        if (year % 100 == 0) {\n",
    "  \n",
    "          // if year is divided by 400\n",
    "          // then it is a leap year\n",
    "          if (year % 400 == 0)\n",
    "            leap = true;\n",
    "          else\n",
    "            leap = false;\n",
    "        }\n",
    "        \n",
    "        // if the year is not century\n",
    "        else\n",
    "          leap = true;\n",
    "      }\n",
    "      \n",
    "      else\n",
    "        leap = false;\n",
    "  \n",
    "      if (leap)\n",
    "        System.out.println(year + \" is a leap year.\");\n",
    "      else\n",
    "        System.out.println(year + \" is not a leap year.\");\n",
    "    }\n",
    "  }"
   ]
  },
  {
   "cell_type": "code",
   "execution_count": null,
   "metadata": {
    "vscode": {
     "languageId": "java"
    }
   },
   "outputs": [],
   "source": [
    "1900 is not a leap year.\n"
   ]
  }
 ],
 "metadata": {
  "kernelspec": {
   "display_name": "Java",
   "language": "java",
   "name": "java"
  },
  "language_info": {
   "codemirror_mode": "java",
   "file_extension": ".jshell",
   "mimetype": "text/x-java-source",
   "name": "Java",
   "pygments_lexer": "java",
   "version": "18.0.2.1+1-1"
  },
  "orig_nbformat": 4,
  "vscode": {
   "interpreter": {
    "hash": "aee8b7b246df8f9039afb4144a1f6fd8d2ca17a180786b69acc140d282b71a49"
   }
  }
 },
 "nbformat": 4,
 "nbformat_minor": 2
}
