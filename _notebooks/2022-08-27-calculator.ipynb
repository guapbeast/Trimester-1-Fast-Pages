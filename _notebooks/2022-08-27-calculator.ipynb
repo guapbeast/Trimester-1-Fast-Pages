{
 "cells": [
  {
   "cell_type": "markdown",
   "metadata": {},
   "source": [
    "# Calculator\n",
    "Calculator\n",
    "\n",
    "- toc: true\n",
    "- layout: post\n",
    "- description: A Basic Calculator\n",
    "- categories: [jupyter]\n",
    "- title: Calculator\n",
    "- author: Rithwikh Varma\n",
    "- show_tags: true\n",
    "- comments: true"
   ]
  },
  {
   "cell_type": "code",
   "execution_count": 1,
   "metadata": {
    "vscode": {
     "languageId": "java"
    }
   },
   "outputs": [],
   "source": [
    "class Main {\n",
    "\n",
    "    public static void main(String[] args) {\n",
    "      \n",
    "      System.out.println(\"Enter two numbers\");\n",
    "      int first = 67;\n",
    "      int second = 45;\n",
    "      \n",
    "      System.out.println(first + \" \" + second);\n",
    "  \n",
    "      // add two numbers\n",
    "      int sum = first + second;\n",
    "      System.out.println(\"The sum is: \" + sum);\n",
    "    }\n",
    "  }"
   ]
  },
  {
   "cell_type": "code",
   "execution_count": null,
   "metadata": {
    "vscode": {
     "languageId": "java"
    }
   },
   "outputs": [],
   "source": [
    "112"
   ]
  }
 ],
 "metadata": {
  "kernelspec": {
   "display_name": "Java",
   "language": "java",
   "name": "java"
  },
  "language_info": {
   "codemirror_mode": "java",
   "file_extension": ".jshell",
   "mimetype": "text/x-java-source",
   "name": "Java",
   "pygments_lexer": "java",
   "version": "18.0.2.1+1-1"
  },
  "orig_nbformat": 4,
  "vscode": {
   "interpreter": {
    "hash": "aee8b7b246df8f9039afb4144a1f6fd8d2ca17a180786b69acc140d282b71a49"
   }
  }
 },
 "nbformat": 4,
 "nbformat_minor": 2
}
