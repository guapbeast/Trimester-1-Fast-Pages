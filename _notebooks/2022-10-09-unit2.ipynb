{
 "cells": [
  {
   "cell_type": "markdown",
   "metadata": {},
   "source": [
    "# Unit 2 Using Objects\n",
    "Unit 2 Using Objects\n",
    "\n",
    "- toc: true\n",
    "- layout: post\n",
    "- description: Unit 2 Using Objects\n",
    "- categories: [jupyter]\n",
    "- image: /images/collegeboardlogo.png\n",
    "- title: Unit 2 Using Objects\n",
    "- author: Rithwikh Varma\n",
    "- show_tags: true\n",
    "- comments: true"
   ]
  },
  {
   "cell_type": "markdown",
   "metadata": {},
   "source": [
    "Java is an object-oriented programming language. \n",
    "\n",
    "Everything in Java is associated with classes and objects, along with its attributes and methods.\n",
    "\n",
    "An object is a member / instance of a Java class.\n",
    "\n",
    "A class is a template or blueprint from which objects are created.\n",
    "\n",
    "An object is the instance of a class.\n",
    "\n",
    "Java has 8 primitive data types/ differet types of objects: the byte, short, int, long, float, double, char and boolean."
   ]
  },
  {
   "cell_type": "code",
   "execution_count": 2,
   "metadata": {
    "vscode": {
     "languageId": "java"
    }
   },
   "outputs": [
    {
     "name": "stdout",
     "output_type": "stream",
     "text": [
      "Mater missed!\n",
      "Lightning McQueen HP: 12\n",
      "Mater takes 2 damage\n",
      "Mater HP: 2\n",
      "Lightning McQueen takes 1 damage\n",
      "Lightning McQueen HP: 12\n",
      "Lightning McQueen missed!\n",
      "Mater HP: 1\n",
      "Mater missed!\n",
      "Lightning McQueen HP: 12\n",
      "Lightning McQueen missed!\n",
      "Mater HP: 1\n",
      "Lightning McQueen takes 1 damage\n",
      "Lightning McQueen HP: 12\n",
      "Mater takes 2 damage\n",
      "Mater HP: -2\n",
      "Mater has perished\n"
     ]
    }
   ],
   "source": [
    "import java.util.*;\n",
    "\n",
    "public class Goblin {\n",
    "    private String name;\n",
    "    private int HP;\n",
    "    private int DMG;\n",
    "    private double hitChance;\n",
    "\n",
    "    public String getName() {\n",
    "        return name;\n",
    "    }\n",
    "\n",
    "    public int getHP() {\n",
    "        return HP;\n",
    "    }\n",
    "\n",
    "    public int getDMG() {\n",
    "        return DMG;\n",
    "    }\n",
    "\n",
    "    public double getHitChance() {\n",
    "        return hitChance;\n",
    "    }\n",
    "\n",
    "    public boolean isAlive() {\n",
    "        if (this.HP > 0) {\n",
    "            return true;\n",
    "        } else {\n",
    "            return false;\n",
    "        }\n",
    "    }\n",
    "\n",
    "    public void setName(String newName) {\n",
    "        this.name = newName;\n",
    "    }\n",
    "\n",
    "    public void setHP(int newHP) {\n",
    "        this.HP = newHP;\n",
    "    }\n",
    "\n",
    "    public void takeDMG(int takenDamage) {\n",
    "        this.HP -= takenDamage;\n",
    "    }\n",
    "\n",
    "    public void setDMG(int newDMG) {\n",
    "        this.DMG = newDMG;\n",
    "    }\n",
    "\n",
    "    public void setHitChance(double newHitChance) {\n",
    "        this.hitChance = newHitChance;\n",
    "    }\n",
    "}\n",
    "\n",
    "public class Duel {\n",
    "\n",
    "    public static void fight(Goblin goblin1, Goblin goblin2) {\n",
    "        while (goblin1.isAlive() && goblin2.isAlive()) {\n",
    "\n",
    "            // goblin1 hit chance tester\n",
    "            if (Math.random() < goblin2.getHitChance()) {\n",
    "                goblin2.takeDMG(goblin2.getDMG());\n",
    "                System.out.println(goblin1.getName() + \" takes \" + goblin2.getDMG() + \" damage\");\n",
    "            }\n",
    "            else {\n",
    "                System.out.println(goblin2.getName() + \" missed!\");\n",
    "            }\n",
    "            // print hp of goblin1\n",
    "            System.out.println(goblin1.getName() + \" HP: \" + goblin1.getHP());\n",
    "\n",
    "            if (!goblin1.isAlive()) {\n",
    "                System.out.println(goblin1.getName() + \" has perished\");\n",
    "                break;\n",
    "            }\n",
    "\n",
    "            // if statement for goblin2 hit chance\n",
    "            if (Math.random() < goblin1.getHitChance()) {\n",
    "                goblin2.takeDMG(goblin1.getDMG());\n",
    "                System.out.println(goblin2.getName() + \" takes \" + goblin1.getDMG() + \" damage\");\n",
    "            }\n",
    "            else {\n",
    "                System.out.println(goblin1.getName() + \" missed!\");\n",
    "            }\n",
    "            // print hp of goblin2\n",
    "            System.out.println(goblin2.getName() + \" HP: \" + goblin2.getHP());\n",
    "\n",
    "            if (!goblin2.isAlive()) {\n",
    "                System.out.println(goblin2.getName() + \" has perished\");\n",
    "                break;\n",
    "            }\n",
    "        }\n",
    "    }\n",
    "\n",
    "    public static void main(String[] args) {\n",
    "        Goblin goblin1 = new Goblin();\n",
    "        goblin1.setName(\"Lightning McQueen\");\n",
    "        goblin1.setHP(12);\n",
    "        goblin1.setDMG(2);\n",
    "        goblin1.setHitChance(0.5);\n",
    "\n",
    "        Goblin goblin2 = new Goblin();\n",
    "        goblin2.setName(\"Mater\");\n",
    "        goblin2.setHP(4);\n",
    "        goblin2.setDMG(1);\n",
    "        goblin2.setHitChance(0.75);\n",
    "\n",
    "        fight(goblin1, goblin2);\n",
    "    }\n",
    "}\n",
    "\n",
    "Duel.main(null);"
   ]
  },
  {
   "cell_type": "markdown",
   "metadata": {},
   "source": [
    "Concatenation: The combination of two or more strings together by using the + operator.\n"
   ]
  },
  {
   "cell_type": "code",
   "execution_count": 1,
   "metadata": {
    "vscode": {
     "languageId": "java"
    }
   },
   "outputs": [
    {
     "name": "stdout",
     "output_type": "stream",
     "text": [
      "Chicken Duck Goose\n"
     ]
    }
   ],
   "source": [
    "String a = \"Chicken\";\n",
    "String b = \"Duck\";\n",
    "String c = \"Goose\";\n",
    "String d = a + \" \" + b + \" \" + c;\n",
    "\n",
    "System.out.println(d);"
   ]
  }
 ],
 "metadata": {
  "kernelspec": {
   "display_name": "Java",
   "language": "java",
   "name": "java"
  },
  "language_info": {
   "codemirror_mode": "java",
   "file_extension": ".jshell",
   "mimetype": "text/x-java-source",
   "name": "Java",
   "pygments_lexer": "java",
   "version": "19.0.1+10-21"
  },
  "orig_nbformat": 4
 },
 "nbformat": 4,
 "nbformat_minor": 2
}
