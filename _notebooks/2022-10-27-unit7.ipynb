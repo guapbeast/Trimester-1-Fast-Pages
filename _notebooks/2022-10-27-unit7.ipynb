{
 "cells": [
  {
   "attachments": {},
   "cell_type": "markdown",
   "metadata": {},
   "source": [
    "# Unit 7 \n",
    "Unit 7 \n",
    "\n",
    "- toc: true\n",
    "- layout: post\n",
    "- description: Unit 7\n",
    "- categories: [jupyter]\n",
    "- image: /images/collegeboardlogo.png\n",
    "- title: Unit 7\n",
    "- author: Rithwikh Varma\n",
    "- show_tags: true\n",
    "- comments: true"
   ]
  },
  {
   "attachments": {},
   "cell_type": "markdown",
   "metadata": {},
   "source": [
    "![Arraylist](images/array.png)\n",
    "\n",
    "Many methods which can used with arrayLists\n",
    "size();\n",
    "Returns the number of elements in the list\n",
    "add(obj);\n",
    "Adds element at the end\n",
    "add(index, object);\n",
    "Adds element at specific index\n",
    "remove(index);\n",
    "Removes element from specific index\n",
    "set(index, object);\n",
    "\n",
    "\n",
    "Example: In dodgeball, the number of people in the game is changing based on who comes in or gets out\n",
    "\n",
    "Primitive Data Types:\n",
    "\n",
    "boolean\n",
    "char\n",
    "double\n",
    "int\n",
    "Wrapper Class Data Types (Store the primitive values as objects)\n",
    "\n",
    "Boolean\n",
    "Character\n",
    "Double\n",
    "Integer\n",
    "\n",
    "import java.util.ArrayList; //you must import the java.util package\n",
    "\n",
    "public class introArrayList {\n",
    "    public static void main (String[] args) {\n",
    "        ArrayList<Integer> e1 = new ArrayList<Integer>(); //empty\n",
    "        ArrayList<String> e2 = new ArrayList<String>(5); //5 elements\n",
    "        ArrayList<Dogs> e3 = new ArrayList<Dogs>(); //you can store whatever objects you want\n",
    "    }\n",
    "}"
   ]
  }
 ],
 "metadata": {
  "kernelspec": {
   "display_name": "Java",
   "language": "java",
   "name": "java"
  },
  "language_info": {
   "codemirror_mode": "java",
   "file_extension": ".jshell",
   "mimetype": "text/x-java-source",
   "name": "java",
   "pygments_lexer": "java",
   "version": "19.0.1+10-21"
  },
  "orig_nbformat": 4
 },
 "nbformat": 4,
 "nbformat_minor": 2
}
