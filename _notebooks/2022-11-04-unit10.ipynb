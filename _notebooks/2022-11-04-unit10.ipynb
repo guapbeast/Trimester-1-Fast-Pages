{
 "cells": [
  {
   "attachments": {},
   "cell_type": "markdown",
   "metadata": {},
   "source": [
    "# Unit 10 \n",
    "Unit 10\n",
    "\n",
    "- toc: true\n",
    "- layout: post\n",
    "- description: Unit 10\n",
    "- categories: [jupyter]\n",
    "- image: /images/collegeboardlogo.png\n",
    "- title: Unit 10\n",
    "- author: Rithwikh Varma\n",
    "- show_tags: true\n",
    "- comments: true"
   ]
  },
  {
   "attachments": {},
   "cell_type": "markdown",
   "metadata": {},
   "source": [
    "Recursion is when a method calls itself repeatedly to solve a problem\n",
    "Contain two parts\n",
    "\n",
    "base case: condition to be reached or returned when conditions are met\n",
    "recursive call: the method being run over and over again\n",
    "uses if and else statement mainly\n",
    "\n",
    "Binary seach algorithm:\n",
    "Data has to be in sorted order\n",
    "Splits array in half multiple times until value is found\n",
    "\n",
    "Selection Sort:\n",
    "finds minimum element from unsorted part and puts it at end of sorted part\n",
    "\n",
    "Merge Sort:\n",
    "splits array into 2, calls it self into two sorted halves, and then merges all the havles back into arrayList"
   ]
  },
  {
   "cell_type": "code",
   "execution_count": 1,
   "metadata": {},
   "outputs": [],
   "source": [
    "public class Test {\n",
    "\n",
    "    public static void main(String[] args) {\n",
    " \n",
    "      String[][] arr = {\n",
    "         { \"a\", \"f\", \"g\" },\n",
    "         { \"b\", \"e\", \"h\" },\n",
    "         { \"c\", \"d\", \"i\" }\n",
    "      };\n",
    " \n",
    "      // Print the last element in the array!\n",
    "       \n",
    "    }\n",
    " \n",
    " }\n",
    " Test.main(null);"
   ]
  },
  {
   "attachments": {},
   "cell_type": "markdown",
   "metadata": {},
   "source": [
    "You can use Nested Loops to traverse 2D Arrays\n",
    "for example: to print out an entire array in order, you need to use these\n",
    "\n",
    "Make sure your columns for loop is always inside your rows for loop!\n",
    "Unless you want it printed the other way of course\n",
    "Print spaces and lines in between to make a neater matrix"
   ]
  },
  {
   "cell_type": "code",
   "execution_count": 2,
   "metadata": {},
   "outputs": [
    {
     "name": "stdout",
     "output_type": "stream",
     "text": [
      "a f g l  \n",
      "b e h k  \n",
      "c d i j  \n"
     ]
    }
   ],
   "source": [
    "public class Test {\n",
    "\n",
    "    public static void main(String[] args) {\n",
    " \n",
    "      String[][] arr = {\n",
    "         { \"a\", \"f\", \"g\", \"l\" },\n",
    "         { \"b\", \"e\", \"h\", \"k\" },\n",
    "         { \"c\", \"d\", \"i\", \"j\" }\n",
    "      };\n",
    " \n",
    "      for (int row = 0; row < 3; row++) {\n",
    "         for (int col = 0; col < 4; col++) {\n",
    "            System.out.print(arr[row][col] + \" \");\n",
    "         }\n",
    "        System.out.println(\" \");\n",
    "      }\n",
    "       \n",
    "    }\n",
    " \n",
    " }\n",
    " Test.main(null);"
   ]
  },
  {
   "attachments": {},
   "cell_type": "markdown",
   "metadata": {},
   "source": [
    "![Arraylist](images/unit10-1.png)\n",
    "![Arraylist](images/unit10-2.png)\n",
    "![Arraylist](images/unit10-3.png)\n",
    "![Arraylist](images/unit10-4.png)"
   ]
  },
  {
   "cell_type": "code",
   "execution_count": 1,
   "metadata": {},
   "outputs": [],
   "source": [
    "// Unit 10 recursion example\n",
    "public int fact(int n) // a random number inputed, factorial of which wil be calculated\n",
    "{\n",
    "    if (n == 1) // base case \n",
    "        return 1; //once n is found to be the same value as 1, the code stops\n",
    "    else    \n",
    "        return n*fact(n-1); //if values not equal, then the function keeps calling the else part   \n",
    "}"
   ]
  }
 ],
 "metadata": {
  "kernelspec": {
   "display_name": "Java",
   "language": "java",
   "name": "java"
  },
  "language_info": {
   "codemirror_mode": "java",
   "file_extension": ".jshell",
   "mimetype": "text/x-java-source",
   "name": "java",
   "pygments_lexer": "java",
   "version": "19.0.1+10-21"
  },
  "orig_nbformat": 4
 },
 "nbformat": 4,
 "nbformat_minor": 2
}
