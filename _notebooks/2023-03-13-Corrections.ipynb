{
 "cells": [
  {
   "attachments": {},
   "cell_type": "markdown",
   "metadata": {},
   "source": [
    "# Corrections\n",
    "Corrections\n",
    "\n",
    "- toc: true\n",
    "- layout: base\n",
    "- description: Corrections\n",
    "- categories: [jupyter]\n",
    "- image: /images/collegeboardlogo.png\n",
    "- title: Corrections\n",
    "- author: Rithwikh Varma\n",
    "- show_tags: true\n",
    "- comments: true"
   ]
  },
  {
   "attachments": {},
   "cell_type": "markdown",
   "metadata": {},
   "source": [
    "College Board MCQ Corrections.\n",
    "\n",
    "Question: #14\n",
    "![CollegeBoard](images/14q.png)\n",
    "\n",
    "Correct if we consider the example where a = 5, b = 5, and c = 3. The boolean expression ((a > b) && (a > c)) would be false because a is not greater than b, so the code will evaluate the boolean expression in the else if. The boolean expression ((b > a) && (b > c)) will also evaluate to false because b is not greater than a, this will cause c to be returned, however c is the smallest of the three integers and not the greatest.\n",
    "\n",
    "\n",
    "Question: #15\n",
    "![CollegeBoard](images/Qu26.png)\n",
    "\n",
    "The correct answer to this problem would be E, because the algorithm assigns temp the letters of str in reverse by extracting each letter of str starting at the end and moving to the beginning. Each letter is appended to the end of temp. So, if str was “abc”, “c” would be appended followed by “b”, and then “a”, making temp equal to “cba”. This method will return true if str is equal to temp.\n",
    "\n",
    "\n",
    "Question: #16\n",
    "![CollegeBoard](images/Q18.png)\n",
    "\n",
    " Prior to the start of the nested for loops, the value of found is initialized to the element at row 0, column 0 in values and result is initialized to 0.The outer for loop iterates across all rows in values. The inner for loop iterates across the column indices of each row. When an element is located in the two-dimensional array that is larger than the current value stored in found, then this value is assigned to found and the column index is assigned to result. When the nested loop structure stops executing, the largest element in values is stored in found and the column in which that element was located is stored in result.\n",
    "\n",
    "\n",
    "Question: #33\n",
    "![CollegeBoard](images/Q19.png)\n",
    "\n",
    "Choice I sets max to Integer.MIN_VALUE, which is the smallest possible integer value. Then it accesses each element in arr and assigns them value. If value is greater than max, max is assigned value since it is now the largest value so far. Choice II uses an if statement inside the for loop to check and see if value is the first element in arr or not. Once the first element is identified, max is initialized to the first element and first is set to false. For all subsequent elements in arr, if value is greater than max, max is assigned value since it is now the largest value so far. Choice III sets max to the first value in arr. Then it accesses each subsequent value in arr checking to see if the value is greater than max, if it is max is assigned this element since it is now the largest value so far. \n",
    "\n",
    "\n",
    "Question: #34\n",
    "![CollegeBoard](images/Qu26.png)\n",
    "Correct. List is an interface, which an ArrayList implements. Please note that List is no longer tested as part of the AP CSA exam and ArrayList will be used instead. To determine the size of an ArrayList we need to call the method size().   Each word will be separated by a comma, but no comma should appear after the last element in the list. Therefore, a comma is added as long as k does not equal the last index, sizeOfList – 1, since list indices start at 0.\n",
    "\n",
    "Question: #23\n",
    "![CollegeBoard](images/Q23.png)\n",
    "\n",
    "The correct answer to this problem would be B, because the last array element is at index arr.length - 1, so the loop should only iterate while j < arr.length.\n",
    "\n",
    "Question: #26\n",
    "![CollegeBoard](images/Q26.png)\n",
    "\n",
    "The correct answer to this problem would be B, because the mutator method updateItems must have a return type. In this case, since no value is returned, the return type should be void.\n",
    "\n",
    "Question: #29\n",
    "![CollegeBoard](images/Q29.png)\n",
    "\n",
    "The correct answer to this problem would be S, because the issue with the code segment is that, in the outer for loop header, the condition j < arr.length - 1 should be replaced with j < arr.length so that the code segment will also traverse the last row in the two-dimensional array. As written, the code segment will traverse all the rows in the array except for the last row. \n",
    "\n",
    "Question: #34\n",
    "![CollegeBoard](images/Q34.png)\n",
    "\n",
    "The correct answer to this problem would be D, because the original code segment uses an enhanced for loop to iterate through the elements of array arr, uses variable sum to accumulate the sum of twice the value of the elements in the array, and prints the value of sum. This code segment produces the same output using a regular for loop.\n"
   ]
  }
 ],
 "metadata": {
  "kernelspec": {
   "display_name": "Java",
   "language": "java",
   "name": "java"
  },
  "language_info": {
   "codemirror_mode": "java",
   "file_extension": ".jshell",
   "mimetype": "text/x-java-source",
   "name": "Java",
   "pygments_lexer": "java",
   "version": "19.0.1+10-21"
  },
  "orig_nbformat": 4
 },
 "nbformat": 4,
 "nbformat_minor": 2
}
