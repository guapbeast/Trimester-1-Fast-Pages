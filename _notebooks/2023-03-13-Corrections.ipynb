{
 "cells": [
  {
   "attachments": {},
   "cell_type": "markdown",
   "metadata": {},
   "source": [
    "# Corrections\n",
    "Corrections\n",
    "\n",
    "- toc: true\n",
    "- layout: base\n",
    "- description: Corrections\n",
    "- categories: [jupyter]\n",
    "- image: /images/collegeboardlogo.png\n",
    "- title: Corrections\n",
    "- author: Rithwikh Varma\n",
    "- show_tags: true\n",
    "- comments: true"
   ]
  },
  {
   "attachments": {},
   "cell_type": "markdown",
   "metadata": {},
   "source": [
    "College Board MCQ Corrections.\n",
    "\n",
    "Question: #14\n",
    "![CollegeBoard](images/14q.png)\n",
    "\n",
    "Correct if we consider the example where a = 5, b = 5, and c = 3. The boolean expression ((a > b) && (a > c)) would be false because a is not greater than b, so the code will evaluate the boolean expression in the else if. The boolean expression ((b > a) && (b > c)) will also evaluate to false because b is not greater than a, this will cause c to be returned, however c is the smallest of the three integers and not the greatest.\n",
    "\n",
    "\n",
    "Question: #15\n",
    "![CollegeBoard](images/Qu26.png)\n",
    "\n",
    "The correct answer to this problem would be E, because the algorithm assigns temp the letters of str in reverse by extracting each letter of str starting at the end and moving to the beginning. Each letter is appended to the end of temp. So, if str was “abc”, “c” would be appended followed by “b”, and then “a”, making temp equal to “cba”. This method will return true if str is equal to temp.\n",
    "\n",
    "\n",
    "Question: #16\n",
    "![CollegeBoard](images/Q18.png)\n",
    "\n",
    " Prior to the start of the nested for loops, the value of found is initialized to the element at row 0, column 0 in values and result is initialized to 0.The outer for loop iterates across all rows in values. The inner for loop iterates across the column indices of each row. When an element is located in the two-dimensional array that is larger than the current value stored in found, then this value is assigned to found and the column index is assigned to result. When the nested loop structure stops executing, the largest element in values is stored in found and the column in which that element was located is stored in result.\n",
    "\n",
    "\n",
    "Question: #19\n",
    "![CollegeBoard](images/Q19.png)\n",
    "\n",
    "The correct answer to this problem would be A; because of De Morgan's laws, the given expression is equivalent to (a < b) || (c < d)."
   ]
  }
 ],
 "metadata": {
  "kernelspec": {
   "display_name": "Java",
   "language": "java",
   "name": "java"
  },
  "language_info": {
   "codemirror_mode": "java",
   "file_extension": ".jshell",
   "mimetype": "text/x-java-source",
   "name": "Java",
   "pygments_lexer": "java",
   "version": "19.0.1+10-21"
  },
  "orig_nbformat": 4
 },
 "nbformat": 4,
 "nbformat_minor": 2
}
