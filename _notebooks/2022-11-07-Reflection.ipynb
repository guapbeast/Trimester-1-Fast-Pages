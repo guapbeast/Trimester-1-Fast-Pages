{
 "cells": [
  {
   "cell_type": "markdown",
   "metadata": {},
   "source": [
    "# Trimester Reflection\n",
    "MC Trimester Reflection\n",
    "\n",
    "- toc: true\n",
    "- layout: post\n",
    "- description: Trimester Reflection\n",
    "- categories: [jupyter]\n",
    "- image: /images/collegeboardlogo.png\n",
    "- title: Trimester Reflection\n",
    "- author: Rithwikh Varma\n",
    "- show_tags: true\n",
    "- comments: true"
   ]
  },
  {
   "cell_type": "markdown",
   "metadata": {},
   "source": [
    "# Trimester Reflection\n",
    "\n",
    "This trimester has been a great learning experience for me and I think that I've grown a lot as a developer, as well as a team member because of the challenges that I overcame. Working through the assignments and PBL for the trimester helped me to develop my skills in frontend, backend coding with java, as well as deployment (after all of the deployment struggles that we faced at the beginning of the trimester)."
   ]
  }
 ],
 "metadata": {
  "kernelspec": {
   "display_name": "Java",
   "language": "java",
   "name": "java"
  },
  "language_info": {
   "codemirror_mode": "java",
   "file_extension": ".jshell",
   "mimetype": "text/x-java-source",
   "name": "java",
   "pygments_lexer": "java",
   "version": "19.0.1+10-21"
  },
  "orig_nbformat": 4
 },
 "nbformat": 4,
 "nbformat_minor": 2
}
