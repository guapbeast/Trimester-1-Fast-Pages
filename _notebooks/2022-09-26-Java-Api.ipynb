{
 "cells": [
  {
   "cell_type": "markdown",
   "metadata": {},
   "source": [
    "# Human Stuff\n",
    "Human Stuff\n",
    "\n",
    "- toc: true\n",
    "- layout: post\n",
    "- description: Human stuff notes\n",
    "- categories: [jupyter]\n",
    "- title: Human Stuff\n",
    "- image: /images/pojo.png\n",
    "- author: Rithwikh Varma\n",
    "- show_tags: true\n",
    "- comments: true"
   ]
  },
  {
   "cell_type": "markdown",
   "metadata": {},
   "source": [
    "# Laurie Santos: Psychologie and the Good Life\n",
    "\n",
    "People at Yale are overwhelmed and so busy that they’re triaging stuff.\n",
    "\n",
    "Many students feel lonely and 80% say that they feel overwhelmed/stressed.\n",
    "\n",
    "Studies show that Yale and other Ivy Leagues are not the exception and that many other college students who don't attend higher challenge colleges experience much the same symptoms.\n",
    "\n",
    "Mental health is an increasingly dangerous crisis, especially for the younger generation that has to deal with the pressures and pitfalls of social media and living in the age of the internet.\n",
    "\n",
    "Laurie Santos helps to teach students how to live a better, happier life, in the moment and be able to pursue their passions and interests, while also pursuing their educations and careers.\n",
    "\n",
    "Laurie Santos worked at Yale and noticed that many people and students at Yale weren't happy or content with their lives.\n",
    "\n",
    "\n",
    "\n",
    "\n",
    "\n",
    "\n",
    "\n",
    "\n",
    "\n",
    "\n",
    "\n",
    "\n"
   ]
  },
  {
   "cell_type": "code",
   "execution_count": null,
   "metadata": {},
   "outputs": [],
   "source": []
  }
 ],
 "metadata": {
  "kernelspec": {
   "display_name": "Python 3.10.0 64-bit",
   "language": "python",
   "name": "python3"
  },
  "language_info": {
   "name": "python",
   "version": "3.10.0"
  },
  "orig_nbformat": 4,
  "vscode": {
   "interpreter": {
    "hash": "aee8b7b246df8f9039afb4144a1f6fd8d2ca17a180786b69acc140d282b71a49"
   }
  }
 },
 "nbformat": 4,
 "nbformat_minor": 2
}
