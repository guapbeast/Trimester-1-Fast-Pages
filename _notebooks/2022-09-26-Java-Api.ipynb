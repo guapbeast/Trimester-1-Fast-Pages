{
 "cells": [
  {
   "cell_type": "markdown",
   "metadata": {},
   "source": [
    "# API Notes\n",
    "API Notes\n",
    "\n",
    "- toc: true\n",
    "- layout: post\n",
    "- description: Notes on APIs\n",
    "- categories: [jupyter]\n",
    "- title: API Notes\n",
    "- image: /images/notes3.png\n",
    "- author: Rithwikh Varma\n",
    "- show_tags: true\n",
    "- comments: true"
   ]
  },
  {
   "attachments": {},
   "cell_type": "markdown",
   "metadata": {},
   "source": [
    "APIs are present across all of the world wide web. APIs are a significant and extremely useful tool to extract lots of data from the internet via APIs.\n",
    "\n",
    "![N@TM](images/one.jpeg)\n",
    "\n",
    "APIs and Jupyter are important tools that are used in data and computer science, and used to develop a project.\n",
    "\n",
    "HttpClients are be used to send requests and retrieveresponses, HttpRequests set up the header and body to API provider, the HttpResponse is returned as a result of sending an HttpRequest, and typically a response body will be received.\n",
    "\n",
    "![N@TM](images/two.jpeg)\n",
    "![N@TM](images/three.jpeg)\n",
    "![N@TM](images/four.jpeg)\n",
    "![N@TM](images/five.jpeg)\n",
    "Finally, the response body needs to be formatted as per the needs of the project.\n"
   ]
  },
  {
   "cell_type": "code",
   "execution_count": null,
   "metadata": {},
   "outputs": [],
   "source": []
  }
 ],
 "metadata": {
  "kernelspec": {
   "display_name": "Python 3.10.0 64-bit",
   "language": "python",
   "name": "python3"
  },
  "language_info": {
   "name": "python",
   "version": "3.10.0"
  },
  "orig_nbformat": 4,
  "vscode": {
   "interpreter": {
    "hash": "aee8b7b246df8f9039afb4144a1f6fd8d2ca17a180786b69acc140d282b71a49"
   }
  }
 },
 "nbformat": 4,
 "nbformat_minor": 2
}
