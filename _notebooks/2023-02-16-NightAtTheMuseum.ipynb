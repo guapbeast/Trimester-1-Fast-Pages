{
 "cells": [
  {
   "attachments": {},
   "cell_type": "markdown",
   "metadata": {},
   "source": [
    "# Night At The Museum Presentation\n",
    "Night At The Museum Presentation\n",
    "\n",
    "- toc: true\n",
    "- layout: base\n",
    "- description: Night At The Museum Presentation\n",
    "- categories: [jupyter]\n",
    "- image: /images/collegeboardlogo.png\n",
    "- title: Night At The Museum Presentation\n",
    "- author: Rithwikh Varma\n",
    "- show_tags: true\n",
    "- comments: true"
   ]
  },
  {
   "attachments": {},
   "cell_type": "markdown",
   "metadata": {},
   "source": [
    "\n",
    "Night at the Museum was a great experience for us and we had a great time presenting to parents and other individuals that came to see us. We got to show off all of our work for the past twelve weeks and were able to work on our presentation and people skills by displaying out project! At Night at the Museum, we got to see a bunch of different projects as well, which was really cool to see because we got to see all of the different takes and routes that other groups took to accomplish their project goals.\n",
    "\n",
    "\n",
    "Images from our fun night can be seen below!!!\n",
    "\n",
    "![N@TM](images/one.jpeg)\n",
    "![N@TM](images/two.jpeg)\n",
    "![N@TM](images/three.jpeg)\n",
    "![N@TM](images/four.jpeg)\n",
    "![N@TM](images/five.jpeg)\n",
    "\n",
    "\n",
    "\n"
   ]
  }
 ],
 "metadata": {
  "kernelspec": {
   "display_name": "Java",
   "language": "java",
   "name": "java"
  },
  "language_info": {
   "codemirror_mode": "java",
   "file_extension": ".jshell",
   "mimetype": "text/x-java-source",
   "name": "java",
   "pygments_lexer": "java",
   "version": "19.0.1+10-21"
  },
  "orig_nbformat": 4
 },
 "nbformat": 4,
 "nbformat_minor": 2
}
