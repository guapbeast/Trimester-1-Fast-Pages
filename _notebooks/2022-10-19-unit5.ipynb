{
 "cells": [
  {
   "cell_type": "markdown",
   "metadata": {},
   "source": [
    "# Unit 5 Writing Classes\n",
    "Unit 5 Writing Classes\n",
    "\n",
    "- toc: true\n",
    "- layout: post\n",
    "- description: Unit 5 Writing Classes\n",
    "- categories: [jupyter]\n",
    "- image: /images/collegeboardlogo.png\n",
    "- title: Unit 5 Writing Classes\n",
    "- author: Rithwikh Varma\n",
    "- show_tags: true\n",
    "- comments: true"
   ]
  },
  {
   "cell_type": "code",
   "execution_count": null,
   "metadata": {},
   "outputs": [],
   "source": [
    "public int scoreGuess (String guess){\n",
    "\n",
    "    int count = 0;\n",
    "    //Initializes count at 0\n",
    "    for (int i = 0; i <= secret.length() - guess.length(); i++) {\n",
    "        if (secret.substring(i, i + guess.length()). equals(guess)) {\n",
    "            count++;\n",
    "        }\n",
    "    }\n",
    "    return count * Math.pow(guess.length(), 2);\n",
    "}"
   ]
  },
  {
   "cell_type": "code",
   "execution_count": null,
   "metadata": {},
   "outputs": [],
   "source": [
    "public void addMembers (String[] names, int gradYear) {\n",
    "\n",
    "    for (string n : names) {\n",
    "\n",
    "        MemberInfo newM = new MemberInfo (n, gradYear, true);\n",
    "        \n",
    "        memberList.add(newM);\n",
    "    }\n",
    "}"
   ]
  }
 ],
 "metadata": {
  "kernelspec": {
   "display_name": "Java",
   "language": "java",
   "name": "java"
  },
  "language_info": {
   "codemirror_mode": "java",
   "file_extension": ".jshell",
   "mimetype": "text/x-java-source",
   "name": "java",
   "pygments_lexer": "java",
   "version": "19.0.1+10-21"
  },
  "orig_nbformat": 4
 },
 "nbformat": 4,
 "nbformat_minor": 2
}
