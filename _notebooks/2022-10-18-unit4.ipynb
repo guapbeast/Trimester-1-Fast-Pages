{
 "cells": [
  {
   "cell_type": "markdown",
   "metadata": {},
   "source": [
    "# Unit 4 Iteration Notes\n",
    "Unit 4 Iteration Notes\n",
    "\n",
    "- toc: true\n",
    "- layout: post\n",
    "- description: Unit 4 Iteration Notes\n",
    "- categories: [jupyter]\n",
    "- image: /images/collegeboardlogo.png\n",
    "- title: Unit 4 Iteration Notes\n",
    "- author: Rithwikh Varma\n",
    "- show_tags: true\n",
    "- comments: true"
   ]
  },
  {
   "cell_type": "markdown",
   "metadata": {},
   "source": [
    "\n",
    "A Boolean expression is a Java expression that returns a Boolean value: true or false\n",
    "\n",
    "Rather than implementing mathematical operators such as \"+\" or \"-\", comparative or boolean operators such as \"==\" or \"!\" can be used.\n",
    "\n",
    "In Java two if statements could be used if both if statement conditions could be true at the same time.\n",
    "\n",
    "Java supplies a primitive data type called Boolean, instances of which can take the value true or false only"
   ]
  },
  {
   "cell_type": "code",
   "execution_count": 1,
   "metadata": {
    "vscode": {
     "languageId": "java"
    }
   },
   "outputs": [],
   "source": [
    "import java.lang.Math;\n",
    "import java.util.Scanner;\n",
    "\n",
    "public class NumberGuess {\n",
    "    private int answer;\n",
    "    private int guess;\n",
    "    Scanner in = new Scanner(System.in);\n",
    "    public NumberGuess() {\n",
    "        this.answer = (int) Math.floor(Math.random()*10 + 1);\n",
    "        System.out.println(answer);\n",
    "    }\n",
    "    public void play() {\n",
    "        while (answer != guess) {\n",
    "            this.getGuess();\n",
    "        }\n",
    "        in.close();\n",
    "    }\n",
    "    public void getGuess() {\n",
    "        System.out.print(\"Guess a number 1-10: \");\n",
    "        this.guess = in.nextInt();\n",
    "        System.out.println(this.guess);\n",
    "        if (this.guess > this.answer) {\n",
    "            System.out.println(\"too high\");\n",
    "        } else if (this.guess < this.answer) {\n",
    "            System.out.println(\"too low\");\n",
    "        } else {\n",
    "            System.out.println(\"congrats\");\n",
    "        }\n",
    "    }\n",
    "    public static void main(String[] args) {\n",
    "        NumberGuess num = new NumberGuess();\n",
    "        num.play();\n",
    "    }\n",
    "}"
   ]
  },
  {
   "cell_type": "markdown",
   "metadata": {},
   "source": [
    "# Second Homework Assignment\n",
    "\n",
    "![Second Assignment](images/Quiz.png)"
   ]
  },
  {
   "cell_type": "markdown",
   "metadata": {},
   "source": [
    "For Loop: A loop that iterates through its index"
   ]
  },
  {
   "cell_type": "code",
   "execution_count": 3,
   "metadata": {
    "vscode": {
     "languageId": "java"
    }
   },
   "outputs": [
    {
     "name": "stdout",
     "output_type": "stream",
     "text": [
      "0\n",
      "3\n",
      "6\n",
      "9\n",
      "12\n",
      "15\n",
      "18\n",
      "21\n",
      "24\n",
      "27\n",
      "30\n",
      "33\n",
      "36\n",
      "39\n",
      "42\n",
      "45\n",
      "48\n",
      "51\n",
      "54\n",
      "57\n",
      "60\n",
      "63\n",
      "66\n",
      "69\n",
      "72\n",
      "75\n",
      "78\n",
      "81\n",
      "84\n",
      "87\n",
      "90\n",
      "93\n",
      "96\n",
      "99\n"
     ]
    }
   ],
   "source": [
    "for (int i = 0; i<100; i+=3) {\n",
    "    System.out.println(i);\n",
    "  }\n",
    "  "
   ]
  }
 ],
 "metadata": {
  "kernelspec": {
   "display_name": "Java",
   "language": "java",
   "name": "java"
  },
  "language_info": {
   "codemirror_mode": "java",
   "file_extension": ".jshell",
   "mimetype": "text/x-java-source",
   "name": "Java",
   "pygments_lexer": "java",
   "version": "19.0.1+10-21"
  },
  "orig_nbformat": 4
 },
 "nbformat": 4,
 "nbformat_minor": 2
}
