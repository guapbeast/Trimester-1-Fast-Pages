{
 "cells": [
  {
   "cell_type": "markdown",
   "metadata": {},
   "source": [
    "# Unit 4 Iteration Notes\n",
    "Unit 4 Iteration Notes\n",
    "\n",
    "- toc: true\n",
    "- layout: post\n",
    "- description: Unit 4 Iteration Notes\n",
    "- categories: [jupyter]\n",
    "- image: /images/collegeboardlogo.png\n",
    "- title: Unit 4 Iteration Notes\n",
    "- author: Rithwikh Varma\n",
    "- show_tags: true\n",
    "- comments: true"
   ]
  },
  {
   "cell_type": "markdown",
   "metadata": {},
   "source": [
    "\n",
    "A Boolean expression is a Java expression that returns a Boolean value: true or false\n",
    "\n",
    "Rather than implementing mathematical operators such as \"+\" or \"-\", comparative or boolean operators such as \"==\" or \"!\" can be used.\n",
    "\n",
    "In Java two if statements could be used if both if statement conditions could be true at the same time.\n",
    "\n",
    "Java supplies a primitive data type called Boolean, instances of which can take the value true or false only"
   ]
  },
  {
   "cell_type": "code",
   "execution_count": 1,
   "metadata": {},
   "outputs": [],
   "source": [
    "import java.lang.Math;\n",
    "import java.util.Scanner;\n",
    "\n",
    "public class NumberGuess {\n",
    "    private int answer;\n",
    "    private int guess;\n",
    "    Scanner in = new Scanner(System.in);\n",
    "    public NumberGuess() {\n",
    "        this.answer = (int) Math.floor(Math.random()*10 + 1);\n",
    "        System.out.println(answer);\n",
    "    }\n",
    "    public void play() {\n",
    "        while (answer != guess) {\n",
    "            this.getGuess();\n",
    "        }\n",
    "        in.close();\n",
    "    }\n",
    "    public void getGuess() {\n",
    "        System.out.print(\"Guess a number 1-10: \");\n",
    "        this.guess = in.nextInt();\n",
    "        System.out.println(this.guess);\n",
    "        if (this.guess > this.answer) {\n",
    "            System.out.println(\"too high\");\n",
    "        } else if (this.guess < this.answer) {\n",
    "            System.out.println(\"too low\");\n",
    "        } else {\n",
    "            System.out.println(\"congrats\");\n",
    "        }\n",
    "    }\n",
    "    public static void main(String[] args) {\n",
    "        NumberGuess num = new NumberGuess();\n",
    "        num.play();\n",
    "    }\n",
    "}"
   ]
  },
  {
   "cell_type": "markdown",
   "metadata": {},
   "source": [
    "# Second Homework Assignment\n",
    "\n",
    "![Second Assignment](images/Quiz.png)"
   ]
  }
 ],
 "metadata": {
  "kernelspec": {
   "display_name": "Java",
   "language": "java",
   "name": "java"
  },
  "language_info": {
   "codemirror_mode": "java",
   "file_extension": ".jshell",
   "mimetype": "text/x-java-source",
   "name": "java",
   "pygments_lexer": "java",
   "version": "19.0.1+10-21"
  },
  "orig_nbformat": 4
 },
 "nbformat": 4,
 "nbformat_minor": 2
}
