{
 "cells": [
  {
   "attachments": {},
   "cell_type": "markdown",
   "metadata": {},
   "source": [
    "# 2015 FRQ\n",
    "2015 FRQ\n",
    "\n",
    "- toc: true\n",
    "- layout: base\n",
    "- description: 2015 FRQ\n",
    "- categories: [jupyter]\n",
    "- image: /images/collegeboardlogo.png\n",
    "- title: 2015 FRQ\n",
    "- author: Rithwikh Varma\n",
    "- show_tags: true\n",
    "- comments: true"
   ]
  },
  {
   "cell_type": "code",
   "execution_count": 1,
   "metadata": {
    "vscode": {
     "languageId": "java"
    }
   },
   "outputs": [],
   "source": [
    "//part A\n",
    "public static int arraySum(int[] arr)\n",
    "{\n",
    "   int sum = 0;\n",
    "\n",
    "   for(int n : arr)\n",
    "     sum += n;\n",
    "\n",
    "   return sum;\n",
    "}\n",
    "\n",
    "//part B\n",
    "public static int[] rowSums(int[][] arr2D)\n",
    "{\n",
    "   int[] sums = new int[arr2D.length];\n",
    "\n",
    "   for(int i = 0; i < sums.length; i++)\n",
    "   {\n",
    "      sums[i] = arraySum(arr2D[i]);\n",
    "   }\n",
    "\n",
    "   return sums;\n",
    "}\n",
    "\n",
    "//part C\n",
    "public static boolean isDiverse(int[][] arr2D)\n",
    "{\n",
    "   int[] sums = rowSums(arr2D);\n",
    "\n",
    "   for(int i = 0; i < sums.length; i++)\n",
    "      for(int j = i+1; j < sums.length; j++)\n",
    "         if(sums[i] == sums[j])\n",
    "            return false;\n",
    "\n",
    "   return true;\n",
    "}"
   ]
  },
  {
   "cell_type": "code",
   "execution_count": null,
   "metadata": {
    "vscode": {
     "languageId": "java"
    }
   },
   "outputs": [],
   "source": [
    "public class HiddenWord \n",
    "{\n",
    "   private String hidden;\n",
    "\n",
    "   public HiddenWord(String h) \n",
    "   {\n",
    "     hidden = h;\n",
    "   }\n",
    "\n",
    "   public String getHint(String hint) \n",
    "   {\n",
    "     String r = \"\";\n",
    "\n",
    "     for(int i = 0; i < hint.length(); i++) \n",
    "     {\n",
    "       if(hint.charAt(i) == hidden.charAt(i))\n",
    "         r += \"\"+hint.charAt(i);\n",
    "       else if(hidden.indexOf(hint.charAt(i)) > -1)\n",
    "         r += \"+\";\n",
    "       else\n",
    "         r += \"*\";\n",
    "     }\n",
    "\n",
    "     return r;\n",
    "   }\n",
    "}\n"
   ]
  },
  {
   "cell_type": "code",
   "execution_count": 7,
   "metadata": {
    "vscode": {
     "languageId": "java"
    }
   },
   "outputs": [
    {
     "name": "stdout",
     "output_type": "stream",
     "text": [
      "Before: 21 16\n",
      "After: 16 21\n",
      "\n",
      "Before: 16 21\n",
      "After: 16 21\n",
      "\n",
      "Before: 16 -1\n",
      "After: -1 16\n",
      "\n"
     ]
    }
   ],
   "source": [
    "public class IntByReference {\n",
    "    private int value;\n",
    "\n",
    "    public IntByReference(Integer value) {\n",
    "        this.value = value;\n",
    "    }\n",
    "\n",
    "    public String toString() {\n",
    "        return (String.format(\"%d\", this.value));\n",
    "    }\n",
    "\n",
    "    public void swapToLowHighOrder(IntByReference i) {\n",
    "        if (this.value > i.value) {\n",
    "            int tmp = this.value;\n",
    "            this.value = i.value;\n",
    "            i.value = tmp;\n",
    "        }\n",
    "    }\n",
    "\n",
    "    public static void swapper(int n0, int n1) {\n",
    "        IntByReference a = new IntByReference(n0);\n",
    "        IntByReference b = new IntByReference(n1);\n",
    "        System.out.println(\"Before: \" + a + \" \" + b);\n",
    "        a.swapToLowHighOrder(b);  // conditionally build swap method to change values of a, b\n",
    "        System.out.println(\"After: \" + a + \" \" + b);\n",
    "        System.out.println();\n",
    "    }\n",
    "\n",
    "    public static void main(String[] ags) {\n",
    "        IntByReference.swapper(21, 16);\n",
    "        IntByReference.swapper(16, 21);\n",
    "        IntByReference.swapper(16, -1);\n",
    "    }\n",
    "\n",
    "}\n",
    "IntByReference.main(null);"
   ]
  }
 ],
 "metadata": {
  "kernelspec": {
   "display_name": "Java",
   "language": "java",
   "name": "java"
  },
  "language_info": {
   "codemirror_mode": "java",
   "file_extension": ".jshell",
   "mimetype": "text/x-java-source",
   "name": "Java",
   "pygments_lexer": "java",
   "version": "19.0.1+10-21"
  },
  "orig_nbformat": 4
 },
 "nbformat": 4,
 "nbformat_minor": 2
}
