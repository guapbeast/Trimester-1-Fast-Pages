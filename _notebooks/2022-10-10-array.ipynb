{
 "cells": [
  {
   "cell_type": "markdown",
   "metadata": {},
   "source": [
    "# Array List Practice\n",
    "Array List Practice\n",
    "\n",
    "- toc: true\n",
    "- layout: post\n",
    "- description: Practice the various uses of Array Lists.\n",
    "- categories: [jupyter]\n",
    "- image: /images/arraylist.png\n",
    "- title: Array List Practice\n",
    "- author: Rithwikh Varma\n",
    "- show_tags: true\n",
    "- comments: true"
   ]
  },
  {
   "cell_type": "code",
   "execution_count": 1,
   "metadata": {},
   "outputs": [
    {
     "name": "stdout",
     "output_type": "stream",
     "text": [
      "[Apple Music, Spotify, Soundcloud, Pandora, Amazon Music, Youtube Music]\n"
     ]
    }
   ],
   "source": [
    "import java.io.File;\n",
    "import java.io.FileWriter;\n",
    "import java.io.IOException;\n",
    "import java.io.PrintWriter;\n",
    "import java.nio.file.Files;\n",
    "import java.nio.file.Path;\n",
    "import java.nio.file.Paths;\n",
    "\n",
    "import javax.imageio.stream.ImageOutputStream;\n",
    "import javax.imageio.stream.ImageInputStream;\n",
    "import javax.imageio.metadata.IIOMetadata;\n",
    "import javax.imageio.IIOImage;\n",
    "import javax.imageio.ImageIO;\n",
    "import javax.imageio.ImageWriteParam;\n",
    "import javax.imageio.ImageWriter;\n",
    "import javax.imageio.ImageReader;\n",
    "import javax.imageio.ImageTypeSpecifier;\n",
    "\n",
    "\n",
    "ArrayList<String> array = new ArrayList<>();\n",
    "array.add(\"Apple Music\");\n",
    "array.add(\"Spotify\");\n",
    "array.add(\"Soundcloud\");\n",
    "array.add(\"Pandora\");\n",
    "array.add(\"Amazon Music\");\n",
    "array.add(\"Youtube Music\");\n",
    "System.out.println(array);\n",
    "\n"
   ]
  },
  {
   "cell_type": "code",
   "execution_count": 2,
   "metadata": {},
   "outputs": [
    {
     "name": "stdout",
     "output_type": "stream",
     "text": [
      "[Apple Music, Spotify, Soundcloud, Amazon Music, Youtube Music]\n"
     ]
    }
   ],
   "source": [
    "ArrayList<String> array = new ArrayList<>();\n",
    "array.add(\"Apple Music\");\n",
    "array.add(\"Spotify\");\n",
    "array.add(\"Soundcloud\");\n",
    "array.add(\"Pandora\");\n",
    "array.add(\"Amazon Music\");\n",
    "array.add(\"Youtube Music\");\n",
    "\n",
    "array.remove(\"Pandora\");\n",
    "System.out.println(array);"
   ]
  },
  {
   "cell_type": "code",
   "execution_count": 3,
   "metadata": {},
   "outputs": [
    {
     "data": {
      "text/plain": [
       "5"
      ]
     },
     "execution_count": 3,
     "metadata": {},
     "output_type": "execute_result"
    }
   ],
   "source": [
    "ArrayList<String> arrayartist = new ArrayList<>();\n",
    "arrayartist.add(\"Ed Sheeran\");\n",
    "arrayartist.add(\"Justin Bieber\");\n",
    "arrayartist.add(\"Drake\");\n",
    "arrayartist.add(\"Bad Bunny\");\n",
    "arrayartist.add(\"Ariana Grande\");\n",
    "arrayartist.add(\"The Weekend\");\n",
    "arrayartist.add(\"Taylor Swift\");\n",
    "array.size();"
   ]
  },
  {
   "cell_type": "code",
   "execution_count": 4,
   "metadata": {},
   "outputs": [
    {
     "name": "stdout",
     "output_type": "stream",
     "text": [
      "[Ed Sheeran, Justin Bieber, Drake, Bad Bunny, Ariana Grande, The Weekend, Taylor Swift]\n"
     ]
    }
   ],
   "source": [
    "ArrayList<String> arrayartist = new ArrayList<>();\n",
    "arrayartist.add(\"Ed Sheeran\");\n",
    "arrayartist.add(\"Justin Bieber\");\n",
    "arrayartist.add(\"Drake\");\n",
    "arrayartist.add(\"Bad Bunny\");\n",
    "arrayartist.add(\"Ariana Grande\");\n",
    "arrayartist.add(\"The Weekend\");\n",
    "arrayartist.add(\"Taylor Swift\");\n",
    "System.out.println(arrayartist);"
   ]
  },
  {
   "cell_type": "code",
   "execution_count": 5,
   "metadata": {},
   "outputs": [
    {
     "data": {
      "text/plain": [
       "6"
      ]
     },
     "execution_count": 5,
     "metadata": {},
     "output_type": "execute_result"
    }
   ],
   "source": [
    "ArrayList<String> array = new ArrayList<>();\n",
    "array.add(\"Apple Music\");\n",
    "array.add(\"Spotify\");\n",
    "array.add(\"Soundcloud\");\n",
    "array.add(\"Pandora\");\n",
    "array.add(\"Amazon Music\");\n",
    "array.add(\"Youtube Music\");\n",
    "array.size();"
   ]
  },
  {
   "cell_type": "code",
   "execution_count": 6,
   "metadata": {},
   "outputs": [
    {
     "name": "stdout",
     "output_type": "stream",
     "text": [
      "[Ed Sheeran, Justin Bieber, Drake, Bad Bunny, Ariana Grande, The Weekend, Taylor Swift]\n",
      "[]\n"
     ]
    }
   ],
   "source": [
    "ArrayList<String> arrayartist = new ArrayList<>();\n",
    "arrayartist.add(\"Ed Sheeran\");\n",
    "arrayartist.add(\"Justin Bieber\");\n",
    "arrayartist.add(\"Drake\");\n",
    "arrayartist.add(\"Bad Bunny\");\n",
    "arrayartist.add(\"Ariana Grande\");\n",
    "arrayartist.add(\"The Weekend\");\n",
    "arrayartist.add(\"Taylor Swift\");\n",
    "System.out.println(arrayartist);\n",
    "\n",
    "arrayartist.clear();\n",
    "System.out.println(arrayartist);"
   ]
  },
  {
   "cell_type": "code",
   "execution_count": 7,
   "metadata": {},
   "outputs": [
    {
     "data": {
      "text/plain": [
       "Pandora"
      ]
     },
     "execution_count": 7,
     "metadata": {},
     "output_type": "execute_result"
    }
   ],
   "source": [
    "ArrayList<String> array = new ArrayList<>();\n",
    "array.add(\"Apple Music\");\n",
    "array.add(\"Spotify\");\n",
    "array.add(\"Soundcloud\");\n",
    "array.add(\"Pandora\");\n",
    "array.add(\"Amazon Music\");\n",
    "array.add(\"Youtube Music\");\n",
    "array.get(3);"
   ]
  },
  {
   "cell_type": "code",
   "execution_count": 8,
   "metadata": {},
   "outputs": [
    {
     "data": {
      "text/plain": [
       "4"
      ]
     },
     "execution_count": 8,
     "metadata": {},
     "output_type": "execute_result"
    }
   ],
   "source": [
    "ArrayList<String> array = new ArrayList<>();\n",
    "array.add(\"Apple Music\");\n",
    "array.add(\"Spotify\");\n",
    "array.add(\"Soundcloud\");\n",
    "array.add(\"Pandora\");\n",
    "array.add(\"Amazon Music\");\n",
    "array.add(\"Youtube Music\");\n",
    "array.indexOf(\"Amazon Music\");"
   ]
  },
  {
   "cell_type": "code",
   "execution_count": 9,
   "metadata": {},
   "outputs": [
    {
     "data": {
      "text/plain": [
       "0"
      ]
     },
     "execution_count": 9,
     "metadata": {},
     "output_type": "execute_result"
    }
   ],
   "source": [
    "ArrayList<String> array = new ArrayList<>();\n",
    "array.add(\"Apple Music\");\n",
    "array.add(\"Spotify\");\n",
    "array.add(\"Soundcloud\");\n",
    "array.add(\"Pandora\");\n",
    "array.add(\"Amazon Music\");\n",
    "array.add(\"Youtube Music\");\n",
    "array.lastIndexOf(\"Apple Music\");"
   ]
  },
  {
   "cell_type": "code",
   "execution_count": 10,
   "metadata": {},
   "outputs": [
    {
     "data": {
      "text/plain": [
       "5"
      ]
     },
     "execution_count": 10,
     "metadata": {},
     "output_type": "execute_result"
    }
   ],
   "source": [
    "ArrayList<String> array = new ArrayList<>();\n",
    "array.add(\"Apple Music\");\n",
    "array.add(\"Spotify\");\n",
    "array.add(\"Soundcloud\");\n",
    "array.add(\"Pandora\");\n",
    "array.add(\"Amazon Music\");\n",
    "array.add(\"Youtube Music\");\n",
    "array.indexOf(\"Youtube Music\");"
   ]
  },
  {
   "cell_type": "code",
   "execution_count": 11,
   "metadata": {},
   "outputs": [
    {
     "data": {
      "text/plain": [
       "1688530220"
      ]
     },
     "execution_count": 11,
     "metadata": {},
     "output_type": "execute_result"
    }
   ],
   "source": [
    "ArrayList<String> array = new ArrayList<>();\n",
    "array.add(\"Apple Music\");\n",
    "array.add(\"Spotify\");\n",
    "array.add(\"Soundcloud\");\n",
    "array.add(\"Pandora\");\n",
    "array.add(\"Amazon Music\");\n",
    "array.add(\"Youtube Music\");\n",
    "array.hashCode();"
   ]
  },
  {
   "cell_type": "code",
   "execution_count": 12,
   "metadata": {},
   "outputs": [
    {
     "data": {
      "text/plain": [
       "false"
      ]
     },
     "execution_count": 12,
     "metadata": {},
     "output_type": "execute_result"
    }
   ],
   "source": [
    "ArrayList<String> array = new ArrayList<>();\n",
    "array.add(\"Apple Music\");\n",
    "array.add(\"Spotify\");\n",
    "array.add(\"Soundcloud\");\n",
    "array.add(\"Pandora\");\n",
    "array.add(\"Amazon Music\");\n",
    "array.add(\"Youtube Music\");\n",
    "array.isEmpty();"
   ]
  },
  {
   "cell_type": "code",
   "execution_count": 13,
   "metadata": {},
   "outputs": [
    {
     "data": {
      "text/plain": [
       "true"
      ]
     },
     "execution_count": 13,
     "metadata": {},
     "output_type": "execute_result"
    }
   ],
   "source": [
    "ArrayList<String> array = new ArrayList<>();\n",
    "array.add(\"Apple Music\");\n",
    "array.add(\"Spotify\");\n",
    "array.add(\"Soundcloud\");\n",
    "array.add(\"Pandora\");\n",
    "array.add(\"Amazon Music\");\n",
    "array.add(\"Youtube Music\");\n",
    "array.contains(\"Spotify\");"
   ]
  },
  {
   "cell_type": "code",
   "execution_count": 14,
   "metadata": {},
   "outputs": [
    {
     "data": {
      "text/plain": [
       "false"
      ]
     },
     "execution_count": 14,
     "metadata": {},
     "output_type": "execute_result"
    }
   ],
   "source": [
    "ArrayList<String> array = new ArrayList<>();\n",
    "array.add(\"Apple Music\");\n",
    "array.add(\"Spotify\");\n",
    "array.add(\"Soundcloud\");\n",
    "array.add(\"Pandora\");\n",
    "array.add(\"Amazon Music\");\n",
    "array.add(\"Youtube Music\");\n",
    "array.contains(\"Google Play\");"
   ]
  },
  {
   "cell_type": "code",
   "execution_count": 15,
   "metadata": {},
   "outputs": [
    {
     "name": "stdout",
     "output_type": "stream",
     "text": [
      "[30, 314159265359, Amazon Music, Apple Music, Pandora, Soundcloud, Spotify, Youtube Music]\n"
     ]
    }
   ],
   "source": [
    "ArrayList<String> array = new ArrayList<>();\n",
    "array.add(\"Apple Music\");\n",
    "array.add(\"Spotify\");\n",
    "array.add(\"Soundcloud\");\n",
    "array.add(\"Pandora\");\n",
    "array.add(\"Amazon Music\");\n",
    "array.add(\"Youtube Music\");\n",
    "array.add(\"30\");\n",
    "array.add(\"314159265359\");\n",
    "array.sort(Comparator.naturalOrder());\n",
    "System.out.println(array);"
   ]
  },
  {
   "cell_type": "code",
   "execution_count": 16,
   "metadata": {},
   "outputs": [
    {
     "name": "stdout",
     "output_type": "stream",
     "text": [
      "[Apple Music, Spotify, Soundcloud, Pandora, Ed Sheeran, Justin Bieber, Drake, Bad Bunny, Ariana Grande, The Weekend, Taylor Swift, Amazon Music, Youtube Music]\n"
     ]
    }
   ],
   "source": [
    "ArrayList<String> array = new ArrayList<>();\n",
    "array.add(\"Apple Music\");\n",
    "array.add(\"Spotify\");\n",
    "array.add(\"Soundcloud\");\n",
    "array.add(\"Pandora\");\n",
    "array.add(\"Amazon Music\");\n",
    "array.add(\"Youtube Music\");\n",
    "\n",
    "\n",
    "ArrayList<String> arrayartist = new ArrayList<>();\n",
    "arrayartist.add(\"Ed Sheeran\");\n",
    "arrayartist.add(\"Justin Bieber\");\n",
    "arrayartist.add(\"Drake\");\n",
    "arrayartist.add(\"Bad Bunny\");\n",
    "arrayartist.add(\"Ariana Grande\");\n",
    "arrayartist.add(\"The Weekend\");\n",
    "arrayartist.add(\"Taylor Swift\");\n",
    "\n",
    "\n",
    "array.addAll(4, arrayartist);\n",
    "System.out.println(array);"
   ]
  },
  {
   "cell_type": "code",
   "execution_count": 17,
   "metadata": {},
   "outputs": [
    {
     "name": "stdout",
     "output_type": "stream",
     "text": [
      "[Apple Music, Spotify, Soundcloud, Pandora, Amazon Music, Justin Bieber]\n"
     ]
    }
   ],
   "source": [
    "ArrayList<String> array = new ArrayList<>();\n",
    "array.add(\"Apple Music\");\n",
    "array.add(\"Spotify\");\n",
    "array.add(\"Soundcloud\");\n",
    "array.add(\"Pandora\");\n",
    "array.add(\"Amazon Music\");\n",
    "array.add(\"Youtube Music\");\n",
    "\n",
    "\n",
    "ArrayList<String> arrayartist = new ArrayList<>();\n",
    "arrayartist.add(\"Ed Sheeran\");\n",
    "arrayartist.add(\"Justin Bieber\");\n",
    "arrayartist.add(\"Drake\");\n",
    "arrayartist.add(\"Bad Bunny\");\n",
    "arrayartist.add(\"Ariana Grande\");\n",
    "arrayartist.add(\"The Weekend\");\n",
    "arrayartist.add(\"Taylor Swift\");\n",
    "\n",
    "\n",
    "array.set(5, \"Justin Bieber\");\n",
    "System.out.println(array);"
   ]
  },
  {
   "cell_type": "code",
   "execution_count": 18,
   "metadata": {},
   "outputs": [
    {
     "name": "stdout",
     "output_type": "stream",
     "text": [
      "[Apple Music, Spotify, Soundcloud, Pandora, Amazon Music, Ariana Grande]\n"
     ]
    }
   ],
   "source": [
    "ArrayList<String> array = new ArrayList<>();\n",
    "array.add(\"Apple Music\");\n",
    "array.add(\"Spotify\");\n",
    "array.add(\"Soundcloud\");\n",
    "array.add(\"Pandora\");\n",
    "array.add(\"Amazon Music\");\n",
    "array.add(\"Youtube Music\");\n",
    "\n",
    "\n",
    "ArrayList<String> arrayartist = new ArrayList<>();\n",
    "arrayartist.add(\"Ed Sheeran\");\n",
    "arrayartist.add(\"Justin Bieber\");\n",
    "arrayartist.add(\"Drake\");\n",
    "arrayartist.add(\"Bad Bunny\");\n",
    "arrayartist.add(\"Ariana Grande\");\n",
    "arrayartist.add(\"The Weekend\");\n",
    "arrayartist.add(\"Taylor Swift\");\n",
    "\n",
    "\n",
    "array.set(5, \"Ariana Grande\");\n",
    "System.out.println(array);"
   ]
  },
  {
   "cell_type": "code",
   "execution_count": 19,
   "metadata": {},
   "outputs": [
    {
     "ename": "CompilationException",
     "evalue": "",
     "output_type": "error",
     "traceback": [
      "\u001b[1m\u001b[30m|   \u001b[1m\u001b[30mSystem print\u001b[0m\u001b[1m\u001b[30m\u001b[41m\u001b[0m\u001b[1m\u001b[30m.out.ln(i);\u001b[0m",
      "\u001b[1m\u001b[31m';' expected\u001b[0m",
      ""
     ]
    }
   ],
   "source": [
    "int i = 0;\n",
    "\n",
    "while (i < 5)\n",
    "{\n",
    "System print.out.ln(i);\n",
    "i++;\n",
    "}\n"
   ]
  }
 ],
 "metadata": {
  "kernelspec": {
   "display_name": "Java",
   "language": "java",
   "name": "java"
  },
  "language_info": {
   "codemirror_mode": "java",
   "file_extension": ".jshell",
   "mimetype": "text/x-java-source",
   "name": "java",
   "pygments_lexer": "java",
   "version": "18.0.2.1+1-1"
  },
  "orig_nbformat": 4
 },
 "nbformat": 4,
 "nbformat_minor": 2
}
