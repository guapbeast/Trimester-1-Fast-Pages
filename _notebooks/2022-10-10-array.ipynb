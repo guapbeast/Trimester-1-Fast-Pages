{
 "cells": [
  {
   "cell_type": "markdown",
   "metadata": {},
   "source": [
    "#Array List"
   ]
  },
  {
   "cell_type": "code",
   "execution_count": null,
   "metadata": {},
   "outputs": [],
   "source": [
    "import java.io.File;\n",
    "import java.io.FileWriter;\n",
    "import java.io.IOException;\n",
    "import java.io.PrintWriter;\n",
    "import java.nio.file.Files;\n",
    "import java.nio.file.Path;\n",
    "import java.nio.file.Paths;\n",
    "\n",
    "import javax.imageio.stream.ImageOutputStream;\n",
    "import javax.imageio.stream.ImageInputStream;\n",
    "import javax.imageio.metadata.IIOMetadata;\n",
    "import javax.imageio.IIOImage;\n",
    "import javax.imageio.ImageIO;\n",
    "import javax.imageio.ImageWriteParam;\n",
    "import javax.imageio.ImageWriter;\n",
    "import javax.imageio.ImageReader;\n",
    "import javax.imageio.ImageTypeSpecifier;\n",
    "\n",
    "\n",
    "\n"
   ]
  }
 ],
 "metadata": {
  "kernelspec": {
   "display_name": "Java",
   "language": "java",
   "name": "java"
  },
  "language_info": {
   "name": "java"
  },
  "orig_nbformat": 4
 },
 "nbformat": 4,
 "nbformat_minor": 2
}
