{
 "cells": [
  {
   "cell_type": "markdown",
   "metadata": {},
   "source": [
    "#Array List"
   ]
  },
  {
   "cell_type": "code",
   "execution_count": 2,
   "metadata": {
    "vscode": {
     "languageId": "java"
    }
   },
   "outputs": [
    {
     "name": "stdout",
     "output_type": "stream",
     "text": [
      "[Apple Music, Spotify, Soundcloud, Pandora]\n"
     ]
    }
   ],
   "source": [
    "import java.io.File;\n",
    "import java.io.FileWriter;\n",
    "import java.io.IOException;\n",
    "import java.io.PrintWriter;\n",
    "import java.nio.file.Files;\n",
    "import java.nio.file.Path;\n",
    "import java.nio.file.Paths;\n",
    "\n",
    "import javax.imageio.stream.ImageOutputStream;\n",
    "import javax.imageio.stream.ImageInputStream;\n",
    "import javax.imageio.metadata.IIOMetadata;\n",
    "import javax.imageio.IIOImage;\n",
    "import javax.imageio.ImageIO;\n",
    "import javax.imageio.ImageWriteParam;\n",
    "import javax.imageio.ImageWriter;\n",
    "import javax.imageio.ImageReader;\n",
    "import javax.imageio.ImageTypeSpecifier;\n",
    "\n",
    "\n",
    "ArrayList<String> array = new ArrayList<>();\n",
    "array.add(\"Apple Music\");\n",
    "array.add(\"Spotify\");\n",
    "array.add(\"Soundcloud\");\n",
    "array.add(\"Pandora\");\n",
    "array.add(\"Amazon Music\");\n",
    "array.add(\"Youtube Music\");\n",
    "System.out.println(array);\n"
   ]
  },
  {
   "cell_type": "code",
   "execution_count": null,
   "metadata": {
    "vscode": {
     "languageId": "java"
    }
   },
   "outputs": [],
   "source": [
    "ArrayList<String> arrayartist = new ArrayList<>();\n",
    "arrayartist.add(\"Ed Sheeran\");\n",
    "arrayartist.add(\"Justin Bieber\");\n",
    "arrayartist.add(\"Drake\");\n",
    "arrayartist.add(\"Bad Bunny\");\n",
    "arrayartist.add(\"Ariana Grande\");\n",
    "arrayarist.add(\"The Weekend\");\n",
    "arrayartist.add(\"Taylor Swift\");\n",
    "System.out.println(arrayartist);"
   ]
  }
 ],
 "metadata": {
  "kernelspec": {
   "display_name": "Java",
   "language": "java",
   "name": "java"
  },
  "language_info": {
   "codemirror_mode": "java",
   "file_extension": ".jshell",
   "mimetype": "text/x-java-source",
   "name": "Java",
   "pygments_lexer": "java",
   "version": "18.0.2.1+1-1"
  },
  "orig_nbformat": 4
 },
 "nbformat": 4,
 "nbformat_minor": 2
}
