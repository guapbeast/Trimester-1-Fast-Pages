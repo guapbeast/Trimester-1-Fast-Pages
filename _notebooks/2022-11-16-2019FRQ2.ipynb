{
 "cells": [
  {
   "cell_type": "markdown",
   "metadata": {},
   "source": [
    "# 2019 FRQ #2\n",
    "2019 FRQ #1\n",
    "\n",
    "- toc: true\n",
    "- layout: post\n",
    "- description: 2019 FRQ #2\n",
    "- categories: [jupyter]\n",
    "- image: /images/csa.png\n",
    "- title: 2019 FRQ #2\n",
    "- author: Rithwikh Varma\n",
    "- show_tags: true\n",
    "- comments: true"
   ]
  },
  {
   "cell_type": "code",
   "execution_count": 1,
   "metadata": {
    "vscode": {
     "languageId": "java"
    }
   },
   "outputs": [],
   "source": [
    "public class StepTracker {\n",
    "\tprivate int activeDaysCount = 0;\n",
    "\tprivate int totalDays = 0;\n",
    "\tprivate int totalSteps = 0;\n",
    "\tprivate int minSteps;\n",
    "\t\n",
    "\tpublic StepTracker(int steps) {\n",
    "\t\tminSteps = steps;\n",
    "\t}\n",
    "\t\n",
    "\tpublic void addDailySteps(int steps) {\n",
    "\t\tif (steps >= minSteps) {\n",
    "\t\t\tactiveDaysCount++;\n",
    "\t\t}\n",
    "\t\ttotalDays++;\n",
    "\t\ttotalSteps += steps;\n",
    "\t}\n",
    "\t\n",
    "\tpublic int activeDays() {\n",
    "\t\treturn activeDaysCount;\n",
    "\t}\n",
    "\t\n",
    "\tpublic double averageSteps() {\n",
    "\t\tif (totalDays == 0) {\n",
    "\t\t\treturn 0.0;\n",
    "\t\t}\n",
    "\t\treturn (double) totalSteps / totalDays;\n",
    "\t}\n",
    "}\n"
   ]
  }
 ],
 "metadata": {
  "kernelspec": {
   "display_name": "Java",
   "language": "java",
   "name": "java"
  },
  "language_info": {
   "codemirror_mode": "java",
   "file_extension": ".jshell",
   "mimetype": "text/x-java-source",
   "name": "Java",
   "pygments_lexer": "java",
   "version": "19.0.1+10-21"
  },
  "orig_nbformat": 4
 },
 "nbformat": 4,
 "nbformat_minor": 2
}
