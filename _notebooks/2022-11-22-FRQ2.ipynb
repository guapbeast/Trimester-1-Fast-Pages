{
 "cells": [
  {
   "attachments": {},
   "cell_type": "markdown",
   "metadata": {},
   "source": [
    "# 2019 FRQ #2\n",
    "2019 FRQ #2\n",
    "\n",
    "- toc: true\n",
    "- layout: post\n",
    "- description: 2019 FRQ #2\n",
    "- categories: [jupyter]\n",
    "- image: /images/csa.png\n",
    "- title: 2019 FRQ #2\n",
    "- author: Rithwikh Varma\n",
    "- show_tags: true\n",
    "- comments: true"
   ]
  },
  {
   "cell_type": "code",
   "execution_count": 1,
   "metadata": {},
   "outputs": [
    {
     "name": "stdout",
     "output_type": "stream",
     "text": [
      "4\n",
      "18\n",
      "36\n",
      "121\n",
      "\n",
      "4\n",
      "12\n",
      "18\n",
      "16\n",
      "0\n"
     ]
    }
   ],
   "source": [
    "public class WordMatch {\n",
    "    private String secret;\n",
    "  \n",
    "    public WordMatch (String word) {\n",
    "      this.secret = word;\n",
    "    }\n",
    "  \n",
    "    public int scoreGuess (String guess) {\n",
    "      String word_copy = secret;\n",
    "      int score = 0;\n",
    "      for (int i = 0; i<secret.length(); i++) {\n",
    "        if (word_copy.indexOf(guess) == 0) score++;\n",
    "        word_copy = word_copy.substring(1, word_copy.length());\n",
    "      }\n",
    "      return score*guess.length()*guess.length();\n",
    "    }\n",
    "  \n",
    "    public static void main (String[] args) {\n",
    "      WordMatch game1 = new WordMatch(\"mississippi\");\n",
    "      System.out.println(game1.scoreGuess(\"i\"));\n",
    "      System.out.println(game1.scoreGuess(\"iss\"));\n",
    "      System.out.println(game1.scoreGuess(\"issipp\"));\n",
    "      System.out.println(game1.scoreGuess(\"mississippi\"));\n",
    "      System.out.println();\n",
    "      WordMatch game2 = new WordMatch(\"aaaabb\");\n",
    "      System.out.println(game2.scoreGuess(\"a\"));\n",
    "      System.out.println(game2.scoreGuess(\"aa\"));\n",
    "      System.out.println(game2.scoreGuess(\"aaa\"));\n",
    "      System.out.println(game2.scoreGuess(\"aabb\"));\n",
    "      System.out.println(game2.scoreGuess(\"c\"));\n",
    "    }\n",
    "  }\n",
    "  \n",
    "  WordMatch.main(null);"
   ]
  },
  {
   "cell_type": "code",
   "execution_count": 2,
   "metadata": {},
   "outputs": [
    {
     "name": "stdout",
     "output_type": "stream",
     "text": [
      "nation\n",
      "con\n"
     ]
    }
   ],
   "source": [
    "public class WordMatch {\n",
    "    private String secret;\n",
    "  \n",
    "    public WordMatch (String word) {\n",
    "      this.secret = word;\n",
    "    }\n",
    "  \n",
    "    public int scoreGuess (String guess) {\n",
    "      String word_copy = secret;\n",
    "      int score = 0;\n",
    "      for (int i = 0; i<secret.length(); i++) {\n",
    "        if (word_copy.indexOf(guess) == 0) score++;\n",
    "        word_copy = word_copy.substring(1, word_copy.length());\n",
    "      }\n",
    "      return score*guess.length()*guess.length();\n",
    "    }\n",
    "  \n",
    "    public String findBetterGuess (String guess1, String guess2) {\n",
    "      int score1 = scoreGuess(guess1);\n",
    "      int score2 = scoreGuess(guess2);\n",
    "      if (score1 > score2) return guess1;\n",
    "      if (score1 < score2) return guess2;\n",
    "      return (guess1.compareTo(guess2) > 0 ? guess1 : guess2);\n",
    "    }\n",
    "  \n",
    "    public static void main (String[] args) {\n",
    "      WordMatch game1 = new WordMatch(\"concatenation\");\n",
    "      System.out.println(game1.findBetterGuess(\"ten\", \"nation\"));\n",
    "      System.out.println(game1.findBetterGuess(\"con\", \"cat\"));\n",
    "    }\n",
    "  }\n",
    "  \n",
    "  WordMatch.main(null);"
   ]
  }
 ],
 "metadata": {
  "kernelspec": {
   "display_name": "Java",
   "language": "java",
   "name": "java"
  },
  "language_info": {
   "codemirror_mode": "java",
   "file_extension": ".jshell",
   "mimetype": "text/x-java-source",
   "name": "java",
   "pygments_lexer": "java",
   "version": "19.0.1+10-21"
  },
  "orig_nbformat": 4
 },
 "nbformat": 4,
 "nbformat_minor": 2
}
