{
 "cells": [
  {
   "cell_type": "markdown",
   "metadata": {},
   "source": [
    "# Java Statement Post\n",
    "Java Statement Post\n",
    "\n",
    "- toc: true\n",
    "- layout: post\n",
    "- description: My first Java if/else statement post\n",
    "- categories: [jupyter]\n",
    "- title: My First Java Statement Post\n",
    "- author: Rithwikh Varma\n",
    "- show_tags: true\n",
    "- comments: true"
   ]
  },
  {
   "cell_type": "code",
   "execution_count": 1,
   "metadata": {
    "vscode": {
     "languageId": "java"
    }
   },
   "outputs": [],
   "source": [
    "GradeCalculator {  \n",
    "    public static void main(String[] args) {  \n",
    "        \n",
    "        int percent=93;  \n",
    "          \n",
    "        if(percent<50){  \n",
    "            System.out.println(\"Sorry, didnt pass\");  \n",
    "        }  \n",
    "\n",
    "        else if(percent>=50 && percent<60){  \n",
    "            System.out.println(\"You earned a D\");  \n",
    "        }  \n",
    "\n",
    "        else if(percent>=60 && percent<70){  \n",
    "            System.out.println(\"You earned a C\");  \n",
    "        }  \n",
    "\n",
    "        else if(percent>=70 && percent<80){  \n",
    "            System.out.println(\"You earned a B\");  \n",
    "        }  \n",
    "\n",
    "        else if(percent>=80 && percent<90){  \n",
    "            System.out.println(\"You earned an A\");  \n",
    "\n",
    "        }else if(percent>=90 && percent<100){  \n",
    "            System.out.println(\"You're the best!\");  \n",
    "\n",
    "        }else{  \n",
    "            System.out.println(\"Try again.\");  \n",
    "        }  \n",
    "    }  \n",
    "    }  "
   ]
  },
  {
   "cell_type": "code",
   "execution_count": null,
   "metadata": {
    "vscode": {
     "languageId": "java"
    }
   },
   "outputs": [],
   "source": [
    "You're the best!"
   ]
  }
 ],
 "metadata": {
  "kernelspec": {
   "display_name": "Java",
   "language": "java",
   "name": "java"
  },
  "language_info": {
   "codemirror_mode": "java",
   "file_extension": ".jshell",
   "mimetype": "text/x-java-source",
   "name": "Java",
   "pygments_lexer": "java",
   "version": "18.0.2.1+1-1"
  },
  "orig_nbformat": 4,
  "vscode": {
   "interpreter": {
    "hash": "aee8b7b246df8f9039afb4144a1f6fd8d2ca17a180786b69acc140d282b71a49"
   }
  }
 },
 "nbformat": 4,
 "nbformat_minor": 2
}
