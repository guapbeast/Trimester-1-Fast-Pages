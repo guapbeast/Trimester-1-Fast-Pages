{
 "cells": [
  {
   "cell_type": "markdown",
   "metadata": {},
   "source": [
    "# Java Statement Post\n",
    "Java Statement Post\n",
    "\n",
    "- toc: true\n",
    "- layout: post\n",
    "- description: My first Java if/else statement post\n",
    "- categories: [jupyter]\n",
    "- title: My First Java Statement Post\n",
    "- author: Rithwikh Varma\n",
    "- show_tags: true\n",
    "- comments: true"
   ]
  },
  {
   "cell_type": "code",
   "execution_count": 1,
   "metadata": {},
   "outputs": [],
   "source": [
    "GradeCalculator {  \n",
    "    public static void main(String[] args) {  \n",
    "\n",
    "        int percent=93;  \n",
    "\n",
    "  //calculates the grade received in AP Physics based on a percentage score earned in the class before the final trimester curve.\n",
    "\n",
    "        if(percent<50){  \n",
    "            System.out.println(\"Sorry, didnt pass\");  \n",
    "        }  \n",
    "\n",
    "        else if(percent>=50 && percent<60){  \n",
    "            System.out.println(\"You earned a D\");  \n",
    "        }  \n",
    "\n",
    "        else if(percent>=60 && percent<70){  \n",
    "            System.out.println(\"You earned a C\");  \n",
    "        }  \n",
    "\n",
    "        else if(percent>=70 && percent<85){  \n",
    "            System.out.println(\"You earned a B\");  \n",
    "        }  \n",
    "\n",
    "        else if(percent>=85 && percent<90){  \n",
    "            System.out.println(\"You earned an A\");  \n",
    "\n",
    "        }else if(percent>=90 && percent<100){  \n",
    "            System.out.println(\"You're the best!\");  \n",
    "\n",
    "        }else if(percent=100){  \n",
    "            System.out.println(\"You're too good!\");  \n",
    "\n",
    "        }else{  \n",
    "            System.out.println(\"Try again.\");  \n",
    "        }  \n",
    "    }  \n",
    "    }  "
   ]
  },
  {
   "cell_type": "code",
   "execution_count": null,
   "metadata": {},
   "outputs": [],
   "source": [
    "You're the best!"
   ]
  }
 ],
 "metadata": {
  "kernelspec": {
   "display_name": "Java",
   "language": "java",
   "name": "java"
  },
  "language_info": {
   "codemirror_mode": "java",
   "file_extension": ".jshell",
   "mimetype": "text/x-java-source",
   "name": "java",
   "pygments_lexer": "java",
   "version": "18.0.2.1+1-1"
  },
  "orig_nbformat": 4,
  "vscode": {
   "interpreter": {
    "hash": "aee8b7b246df8f9039afb4144a1f6fd8d2ca17a180786b69acc140d282b71a49"
   }
  }
 },
 "nbformat": 4,
 "nbformat_minor": 2
}
