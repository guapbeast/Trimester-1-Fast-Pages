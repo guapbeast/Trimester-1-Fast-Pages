{
 "cells": [
  {
   "cell_type": "markdown",
   "metadata": {},
   "source": [
    "# MONA Lisa\n",
    "\n",
    "Write the static method numberOfLeapYears, which returns the number of leap years between\n",
    "year1 and year2, inclusive.\n",
    "In order to calculate this value, a helper method is provided for you.\n",
    "• isLeapYear(year) returns true if year is a leap year and false otherwise.\n",
    "Complete method numberOfLeapYears below. You must use isLeapYear appropriately to\n",
    "receive full credit.\n",
    "/** Returns the number of leap years between year1 and year2, inclusive.\n",
    " * Precondition: 0 <= year1 <= year2\n",
    " */\n",
    " public static int numberOfLeapYears(int year1, int year2) "
   ]
  },
  {
   "cell_type": "markdown",
   "metadata": {},
   "source": [
    "a) Write the static method numberOfLeapYears, which returns the number of leap years between\n",
    "year1 and year2, inclusive.\n",
    "In order to calculate this value, a helper method is provided for you.\n",
    "• isLeapYear(year) returns true if year is a leap year and false otherwise.\n",
    "Complete method numberOfLeapYears below. You must use isLeapYear appropriately to\n",
    "receive full credit.\n",
    "/** Returns the number of leap years between year1 and year2, inclusive.\n",
    " * Precondition: 0 <= year1 <= year2\n",
    " */\n",
    " public static int numberOfLeapYears(int year1, int year2)"
   ]
  },
  {
   "cell_type": "code",
   "execution_count": null,
   "metadata": {},
   "outputs": [],
   "source": [
    "public static int numberOfLeapYears(int year1, int year2) {\n",
    "\n",
    "    for (int y=year1; y<=year2; y++) \n",
    "    // The helper method \"isLeapYear(y)\"returns true given an input of a leap year and false given the input of a non-leap year.\n",
    "        if (isLeapYear(y)) {\n",
    "\n",
    "            count++;\n",
    "        }\n",
    "    }\n",
    "    return count; \n",
    "}"
   ]
  },
  {
   "cell_type": "markdown",
   "metadata": {},
   "source": [
    "The Method \"numberOfLeapYears\" outputs the number of leap years that there are between a certain set of years. The helper method \"isLeapYear(y)\" is the main part of this function and returns true given an input of a leap year and false given the input of a non-leap year."
   ]
  },
  {
   "cell_type": "markdown",
   "metadata": {},
   "source": [
    "1b)\n",
    "Write the static method dayOfWeek, which returns the integer value representing the day of the week for\n",
    "the given date (month, day, year), where 0 denotes Sunday, 1 denotes Monday, ..., and 6\n",
    "denotes Saturday. For example, 2019 began on a Tuesday, and January 5 is the fifth day of 2019. As a result,\n",
    "January 5, 2019, fell on a Saturday, and the method call dayOfWeek(1, 5, 2019)\n",
    "returns 6.\n",
    "As another example, January 10 is the tenth day of 2019. As a result, January 10, 2019, fell on a Thursday,\n",
    "and the method call dayOfWeek(1, 10, 2019) returns 4.\n",
    "In order to calculate this value, two helper methods are provided for you.\n",
    "• firstDayOfYear(year) returns the integer value representing the day of the week for the first\n",
    "day of year, where 0 denotes Sunday, 1 denotes Monday, ..., and 6 denotes Saturday. For\n",
    "example, since 2019 began on a Tuesday, firstDayOfYear(2019) returns 2.\n",
    "• dayOfYear(month, day, year) returns n, where month, day, and year specify the\n",
    "nth day of the year. For the first day of the year, January 1 (month = 1, day = 1), the value\n",
    "1 is returned. This method accounts for whether year is a leap year. For example,\n",
    "dayOfYear(3, 1, 2017) returns 60, since 2017 is not a leap year, while\n",
    "dayOfYear(3, 1, 2016) returns 61, since 2016 is a leap year. "
   ]
  },
  {
   "cell_type": "code",
   "execution_count": null,
   "metadata": {},
   "outputs": [],
   "source": [
    "public static int dayOfWeek(int month, int day, int year) {\n",
    "\n",
    "    int firstDay = firstDayOfYear(year);\n",
    "\n",
    "    int day = dayOfYear(month, day, year);\n",
    "\n",
    "    //subtract one because the calendar doesn't start at 0\n",
    "    return (firstDay + day - 1) % 7;\n",
    "}"
   ]
  },
  {
   "cell_type": "markdown",
   "metadata": {},
   "source": [
    "The method firstDayOfYear outputs a value that shows what day of the week a date on the calendar is. Sunday is represented by a value of zero, Monday by one, up until Saturday which is represented by six.\n",
    "\n",
    "The methoddayOfYear tells us what day a certain calendar date on. For example, dayOfYear( 7, 6, 2011 ) would return 6 because the 6th of January is the sixth day of the year in 2011."
   ]
  }
 ],
 "metadata": {
  "kernelspec": {
   "display_name": "Java",
   "language": "java",
   "name": "java"
  },
  "language_info": {
   "codemirror_mode": "java",
   "file_extension": ".jshell",
   "mimetype": "text/x-java-source",
   "name": "java",
   "pygments_lexer": "java",
   "version": "18.0.2.1+1-1"
  },
  "orig_nbformat": 4,
  "vscode": {
   "interpreter": {
    "hash": "aee8b7b246df8f9039afb4144a1f6fd8d2ca17a180786b69acc140d282b71a49"
   }
  }
 },
 "nbformat": 4,
 "nbformat_minor": 2
}
