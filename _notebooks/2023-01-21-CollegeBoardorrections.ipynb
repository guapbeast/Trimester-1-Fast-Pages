{
 "cells": [
  {
   "attachments": {},
   "cell_type": "markdown",
   "metadata": {},
   "source": [
    "# CollegeBoard Revisions/Reflection\n",
    "CollegeBoard Revisions/Reflection\n",
    "\n",
    "- toc: true\n",
    "- layout: post\n",
    "- description: CollegeBoard Revisions/Reflection\n",
    "- categories: [jupyter]\n",
    "- image: /images/collegeboardlogo.png\n",
    "- title: CollegeBoard Revisions/Reflection\n",
    "- author: Rithwikh Varma\n",
    "- show_tags: true\n",
    "- comments: true"
   ]
  },
  {
   "attachments": {},
   "cell_type": "markdown",
   "metadata": {},
   "source": [
    "College Board MCQ Corrections.\n",
    "\n",
    "Question: #5\n",
    "![CollegeBoard](images/Q5.png)\n",
    "\n",
    "The correct answer to this problem would be A: ( a && b ) && ( !c && d ).\n",
    "\n",
    "\n",
    "Question: #12\n",
    "![CollegeBoard](images/Q12.png)\n",
    "\n",
    "The correct answer to this problem would be A: (y > 10000 | | x > 1000) && (y > 10000 | | x < 1500) because the original expression evaluates to true when either y is greater than 10000 or x is between 1000 and 1500.\n",
    "\n",
    "Question: #18\n",
    "![CollegeBoard](images/Q18.png)\n",
    "\n",
    "The correct answer to this problem would be E becausethe original expression prints \"dog\" when a < b || c != d evaluates to true, an equivalent code segment would print \"cat\" when the negative of the expression, or !(a < b || c != d), evaluates to true. \n",
    "\n",
    "\n",
    "Question: #19\n",
    "![CollegeBoard](images/Q19.png)\n",
    "\n",
    "The correct answer to this problem would be A; because of De Morgan's laws, the given expression is equivalent to (a < b) || (c < d)."
   ]
  }
 ],
 "metadata": {
  "kernelspec": {
   "display_name": "Java",
   "language": "java",
   "name": "java"
  },
  "language_info": {
   "codemirror_mode": "java",
   "file_extension": ".jshell",
   "mimetype": "text/x-java-source",
   "name": "java",
   "pygments_lexer": "java",
   "version": "19.0.1+10-21"
  },
  "orig_nbformat": 4
 },
 "nbformat": 4,
 "nbformat_minor": 2
}
