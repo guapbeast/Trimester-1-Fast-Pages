{
 "cells": [
  {
   "attachments": {},
   "cell_type": "markdown",
   "metadata": {},
   "source": [
    "# CollegeBoard Revisions/Reflection\n",
    "CollegeBoard Revisions/Reflection\n",
    "\n",
    "- toc: true\n",
    "- layout: post\n",
    "- description: CollegeBoard Revisions/Reflection\n",
    "- categories: [jupyter]\n",
    "- image: /images/csa.png\n",
    "- title: CollegeBoard Revisions/Reflection\n",
    "- author: Rithwikh Varma\n",
    "- show_tags: true\n",
    "- comments: true"
   ]
  },
  {
   "attachments": {},
   "cell_type": "markdown",
   "metadata": {},
   "source": [
    "College Board MCQ Corrections.\n",
    "\n",
    "Question: #5\n",
    "![CollegeBoard](images/Q5.png)\n",
    "\n",
    "The correct answer to this problem would be A: ( a && b ) && ( !c && d ).\n",
    "\n",
    "\n",
    "Question: #12\n",
    "![CollegeBoard](images/Q5.png)\n",
    "\n",
    "The correct answer to this problem would be A: ( a && b ) && ( !c && d ).\n",
    "\n",
    "\n",
    "\n"
   ]
  }
 ],
 "metadata": {
  "kernelspec": {
   "display_name": "Java",
   "language": "java",
   "name": "java"
  },
  "language_info": {
   "codemirror_mode": "java",
   "file_extension": ".jshell",
   "mimetype": "text/x-java-source",
   "name": "java",
   "pygments_lexer": "java",
   "version": "19.0.1+10-21"
  },
  "orig_nbformat": 4
 },
 "nbformat": 4,
 "nbformat_minor": 2
}
