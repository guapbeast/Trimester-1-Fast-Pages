{
 "cells": [
  {
   "cell_type": "markdown",
   "metadata": {},
   "source": [
    "# POJO Notes\n",
    "POJO Notes\n",
    "\n",
    "- toc: true\n",
    "- layout: post\n",
    "- description: Notes on POJO, JPA, API, and FE!\n",
    "- categories: [jupyter]\n",
    "- image: /images/arraylist.png\n",
    "- title: POJO, JPA, API, and FE Notes\n",
    "- author: Rithwikh Varma\n",
    "- show_tags: true\n",
    "- comments: true"
   ]
  },
  {
   "cell_type": "markdown",
   "metadata": {},
   "source": [
    "POJO helps to create an entity, which can be converted to a database. The JAVA persistent API, or JPA helps coders to interact with the database; API's in particular help us to store and share data from a community of users.\n",
    "\n",
    "Building out the RESTful API services is the last major backend step necessary to access our data.\n",
    "\n",
    " Lists are a super class to ArrayList. \n"
   ]
  }
 ],
 "metadata": {
  "kernelspec": {
   "display_name": "Java",
   "language": "java",
   "name": "java"
  },
  "language_info": {
   "codemirror_mode": "java",
   "file_extension": ".jshell",
   "mimetype": "text/x-java-source",
   "name": "java",
   "pygments_lexer": "java",
   "version": "18.0.2.1+1-1"
  },
  "orig_nbformat": 4,
  "vscode": {
   "interpreter": {
    "hash": "aee8b7b246df8f9039afb4144a1f6fd8d2ca17a180786b69acc140d282b71a49"
   }
  }
 },
 "nbformat": 4,
 "nbformat_minor": 2
}
