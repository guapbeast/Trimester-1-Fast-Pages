{
 "cells": [
  {
   "attachments": {},
   "cell_type": "markdown",
   "metadata": {},
   "source": [
    "# CollegeBoard Revisions/Reflection\n",
    "CollegeBoard Revisions/Reflection\n",
    "\n",
    "- toc: true\n",
    "- layout: post\n",
    "- description: CollegeBoard Revisions/Reflection\n",
    "- categories: [jupyter]\n",
    "- image: /images/collegeboardlogo.png\n",
    "- title: CollegeBoard Revisions/Reflection\n",
    "- author: Rithwikh Varma\n",
    "- show_tags: true\n",
    "- comments: true"
   ]
  },
  {
   "attachments": {},
   "cell_type": "markdown",
   "metadata": {},
   "source": [
    "College Board MCQ Corrections.\n",
    "\n",
    "Question: #5\n",
    "![CollegeBoard](images/Q5.png)\n",
    "\n",
    "The correct answer to this problem would be A: ( a && b ) && ( !c && d ).\n",
    "\n",
    "\n",
    "Question: #12\n",
    "![CollegeBoard](images/Q12.png)\n",
    "\n",
    "The correct answer to this problem would be A: (y > 10000 | | x > 1000) && (y > 10000 | | x < 1500) because the original expression evaluates to true when either y is greater than 10000 or x is between 1000 and 1500.\n",
    "\n",
    "Question: #18\n",
    "![CollegeBoard](images/Q18.png)\n",
    "\n",
    "The correct answer to this problem would be E becausethe original expression prints \"dog\" when a < b || c != d evaluates to true, an equivalent code segment would print \"cat\" when the negative of the expression, or !(a < b || c != d), evaluates to true. \n",
    "\n",
    "Question: #19\n",
    "![CollegeBoard](images/Q19.png)\n",
    "\n",
    "The correct answer to this problem would be A; because of De Morgan's laws, the given expression is equivalent to (a < b) || (c < d).\n",
    "\n",
    "Question: #23\n",
    "![CollegeBoard](images/Q23.png)\n",
    "\n",
    "The correct answer to this problem would be B, because the last array element is at index arr.length - 1, so the loop should only iterate while j < arr.length.\n",
    "\n",
    "Question: #26\n",
    "![CollegeBoard](images/Q26.png)\n",
    "\n",
    "The correct answer to this problem would be B, because the mutator method updateItems must have a return type. In this case, since no value is returned, the return type should be void.\n",
    "\n",
    "Question: #29\n",
    "![CollegeBoard](images/Q29.png)\n",
    "\n",
    "The correct answer to this problem would be S, because the issue with the code segment is that, in the outer for loop header, the condition j < arr.length - 1 should be replaced with j < arr.length so that the code segment will also traverse the last row in the two-dimensional array. As written, the code segment will traverse all the rows in the array except for the last row. \n",
    "\n"
   ]
  }
 ],
 "metadata": {
  "kernelspec": {
   "display_name": "Java",
   "language": "java",
   "name": "java"
  },
  "language_info": {
   "codemirror_mode": "java",
   "file_extension": ".jshell",
   "mimetype": "text/x-java-source",
   "name": "java",
   "pygments_lexer": "java",
   "version": "19.0.1+10-21"
  },
  "orig_nbformat": 4
 },
 "nbformat": 4,
 "nbformat_minor": 2
}
