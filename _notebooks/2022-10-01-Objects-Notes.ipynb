{
 "cells": [
  {
   "cell_type": "markdown",
   "metadata": {},
   "source": [
    "# Objects Notes\n",
    "Objects Notes\n",
    "\n",
    "- toc: true\n",
    "- layout: post\n",
    "- description: Notes on Objects\n",
    "- categories: [jupyter]\n",
    "- title: Objects Notes\n",
    "- image: /images/notes2.jpeg\n",
    "- author: Rithwikh Varma\n",
    "- show_tags: true\n",
    "- comments: true"
   ]
  },
  {
   "cell_type": "markdown",
   "metadata": {},
   "source": [
    " A Class is a template for an Object. An Object is an instances of a Class. \n",
    "\n",
    "![API](images/api.png)\n",
    "\n",
    "\n",
    "Java is an object-oriented programming language. Everything in Java is associated with classes and objects, along with its attributes and methods. \n",
    "\n",
    "For example: in real life, a car is an object. The car has attributes, such as weight and color, and methods, such as drive and brake.\n",
    "\n",
    "![API](images/notes1.png)\n"
   ]
  },
  {
   "cell_type": "code",
   "execution_count": null,
   "metadata": {},
   "outputs": [],
   "source": []
  }
 ],
 "metadata": {
  "kernelspec": {
   "display_name": "Python 3.10.0 64-bit",
   "language": "python",
   "name": "python3"
  },
  "language_info": {
   "name": "python",
   "version": "3.10.0"
  },
  "orig_nbformat": 4,
  "vscode": {
   "interpreter": {
    "hash": "aee8b7b246df8f9039afb4144a1f6fd8d2ca17a180786b69acc140d282b71a49"
   }
  }
 },
 "nbformat": 4,
 "nbformat_minor": 2
}
