{
 "cells": [
  {
   "cell_type": "markdown",
   "metadata": {},
   "source": [
    "---\n",
    "toc: true\n",
    "layout: post\n",
    "description: CollegeBoard Notes\n",
    "categories: [markdown]\n",
    "title: CollegeBoard Notes\n",
    "---\n",
    "\n",
    "# Ŕithwikh Várma\n",
    "\n",
    "---\n",
    "## Author Information\n",
    "\n",
    "| Name | GitHub ID and Profile | Tasks | Scrum Board | Commits | Role | \n",
    "|:-----|:----------------------|:-----:|:-----------:|:-------:|:-------:|\n",
    "| Ŕithwikh Várma| [@guapbeast](https://github.com/guapbeast) | [Tasks](https://github.com/jacksongolding/Nut-Team/issues/assigned/guapbeast) |[Scrum Board](https://github.com/jacksongolding/Nut-Team/projects/1) | [Commits](https://github.com/jacksongolding/Nut-Team/commits?author=guapbeast) | Github Admin\n",
    "\n",
    "\n",
    "\n",
    "# Unit 1: Primitive Types\n",
    "\n",
    "You’ll learn the fundamentals of Java, a programming language, as well as other foundational concepts for coding.\n",
    "\n",
    "# Unit 2: Using Objects\n",
    "\n",
    "You’ll explore reference data as a way to represent real-world objects in a digital world and discover methods to perform more complex operations.\n",
    "\n",
    "# Unit 3: Boolean Expressions and if Statements\n",
    "\n",
    "You’ll delve into the building blocks of algorithms and focus on using conditional statements to solve problems and control results.\n",
    "\n",
    "# Unit 4: Iteration\n",
    "\n",
    "You’ll learn about iteration, another building block of algorithms that are for repetition.\n",
    "\n",
    "# Unit 5: Writing Classes\n",
    "\n",
    "You’ll explore how real-world interactions can be expressed digitally by organizing behaviors and attributes into classes, and you’ll examine the legal and ethical implications of computer programming.\n",
    "\n",
    "# Unit 6: Array\n",
    "\n",
    "You’ll learn techniques and standard algorithms to work with collections of related data, known as data structures.\n",
    "\n",
    "# Unit 7: ArrayList\n",
    "\n",
    "You’ll delve deeper into data sets, exploring ArrayList objects for larger amounts of data, as well as the privacy concerns related to personal data storage.\n",
    "\n",
    "# Unit 8: 2D Array\n",
    "\n",
    "Now that you’ve explored 1D arrays, you’ll branch out into 2D arrays and experiment with data sets represented in a table.\n",
    "\n",
    "# Unit 9: Inheritance\n",
    "You’ll learn how to manipulate programming without altering existing code by using subclasses to create a hierarchy.\n",
    "\n",
    "# Unit 10: Recursion\n",
    "You’ll work on solving larger problems by solving smaller, simpler versions of the same problem using recursive methods.\n",
    "\n",
    "\n"
   ]
  }
 ],
 "metadata": {
  "kernelspec": {
   "display_name": "Python 3.10.0 64-bit",
   "language": "python",
   "name": "python3"
  },
  "language_info": {
   "name": "python",
   "version": "3.10.0"
  },
  "orig_nbformat": 4,
  "vscode": {
   "interpreter": {
    "hash": "aee8b7b246df8f9039afb4144a1f6fd8d2ca17a180786b69acc140d282b71a49"
   }
  }
 },
 "nbformat": 4,
 "nbformat_minor": 2
}
